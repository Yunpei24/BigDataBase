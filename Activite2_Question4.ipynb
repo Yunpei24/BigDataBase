{
  "nbformat": 4,
  "nbformat_minor": 0,
  "metadata": {
    "colab": {
      "provenance": [],
      "authorship_tag": "ABX9TyPuMbZNIGdSzFJFXA+MFo+M",
      "include_colab_link": true
    },
    "kernelspec": {
      "name": "python3",
      "display_name": "Python 3"
    },
    "language_info": {
      "name": "python"
    },
    "accelerator": "GPU",
    "gpuClass": "standard"
  },
  "cells": [
    {
      "cell_type": "markdown",
      "metadata": {
        "id": "view-in-github",
        "colab_type": "text"
      },
      "source": [
        "<a href=\"https://colab.research.google.com/github/Yunpei24/BigDataBase/blob/main/Activite2_Question4.ipynb\" target=\"_parent\"><img src=\"https://colab.research.google.com/assets/colab-badge.svg\" alt=\"Open In Colab\"/></a>"
      ]
    },
    {
      "cell_type": "markdown",
      "source": [
        "#ACTIVITE2"
      ],
      "metadata": {
        "id": "hQRw5bKPO-3G"
      }
    },
    {
      "cell_type": "markdown",
      "source": [
        "Installation du JDK"
      ],
      "metadata": {
        "id": "9z7VzgdtcHT7"
      }
    },
    {
      "cell_type": "code",
      "execution_count": 1,
      "metadata": {
        "id": "VG2QZ2-puh60"
      },
      "outputs": [],
      "source": [
        "!apt-get install openjdk-8-jdk-headless -qq > /dev/null"
      ]
    },
    {
      "cell_type": "markdown",
      "source": [
        "Création de la variable d'environnement <JAVA_HOME> pour situer l'emplacement d'installationde Java "
      ],
      "metadata": {
        "id": "aHs729CucFMv"
      }
    },
    {
      "cell_type": "code",
      "source": [
        "import os\n",
        "os.environ[\"JAVA_HOME\"] = \"/usr/lib/jvm/java-8-openjdk-amd64\""
      ],
      "metadata": {
        "id": "6SJ7l69avQP0"
      },
      "execution_count": 2,
      "outputs": []
    },
    {
      "cell_type": "markdown",
      "source": [
        "# Installation du framework Hadoop"
      ],
      "metadata": {
        "id": "zATmQRKXv6y5"
      }
    },
    {
      "cell_type": "markdown",
      "source": [
        "Téléchargement depuis les archives de la fondation Apache"
      ],
      "metadata": {
        "id": "M2GpL7zccB-E"
      }
    },
    {
      "cell_type": "code",
      "source": [
        "!wget https://archive.apache.org/dist/hadoop/common/hadoop-3.3.0/hadoop-3.3.0.tar.gz"
      ],
      "metadata": {
        "id": "fIzgKOjjvVZn"
      },
      "execution_count": null,
      "outputs": []
    },
    {
      "cell_type": "markdown",
      "source": [
        "Extraction de l'archive"
      ],
      "metadata": {
        "id": "d3tokPwWb_TU"
      }
    },
    {
      "cell_type": "code",
      "source": [
        "!tar -xzvf hadoop-3.3.0.tar.gz"
      ],
      "metadata": {
        "id": "7Qsxg2nVvcql"
      },
      "execution_count": null,
      "outputs": []
    },
    {
      "cell_type": "markdown",
      "source": [
        "Copie du dossier extrait dans l'emplacement <user/local>"
      ],
      "metadata": {
        "id": "KMihsUJcb8mc"
      }
    },
    {
      "cell_type": "code",
      "source": [
        "!cp -r hadoop-3.3.0/ /usr/local/"
      ],
      "metadata": {
        "id": "qiZu2f2MvfFJ"
      },
      "execution_count": 5,
      "outputs": []
    },
    {
      "cell_type": "markdown",
      "source": [
        "## Programmation de tâches distribuées avec <i>MapReduce</i>"
      ],
      "metadata": {
        "id": "cPA7R0jj7Efs"
      }
    },
    {
      "cell_type": "markdown",
      "source": [
        "Création d'un repertoire <myinput> pour contenir le jeu de données à tester durant cet exercice e d'un second pour les résultats du traitement distribué"
      ],
      "metadata": {
        "id": "zrgy3AhU6-ue"
      }
    },
    {
      "cell_type": "code",
      "source": [
        "!mkdir -p ~/myinput\n",
        "!mkdir -p ~/myoutput"
      ],
      "metadata": {
        "id": "CdW4R_x5vqoo"
      },
      "execution_count": 6,
      "outputs": []
    },
    {
      "cell_type": "markdown",
      "source": [
        "Télachargement du jeu de données dans le fichier <u>purchases.txt</u>"
      ],
      "metadata": {
        "id": "0YYbaWQKbwgI"
      }
    },
    {
      "cell_type": "code",
      "source": [
        "!curl -L -o 'purchases.txt' 'https://drive.google.com/u/0/uc?id=1NS-PSXW8bSNpzFH4XRbtmMnMGhXBdYy6&export=download&confirm=t'"
      ],
      "metadata": {
        "id": "Z1H5BOHtGgvK",
        "outputId": "8a855249-53a6-4a5a-a400-8e5192215708",
        "colab": {
          "base_uri": "https://localhost:8080/"
        }
      },
      "execution_count": 7,
      "outputs": [
        {
          "output_type": "stream",
          "name": "stdout",
          "text": [
            "  % Total    % Received % Xferd  Average Speed   Time    Time     Time  Current\n",
            "                                 Dload  Upload   Total   Spent    Left  Speed\n",
            "  0     0    0     0    0     0      0      0 --:--:-- --:--:-- --:--:--     0\n",
            "  0     0    0     0    0     0      0      0 --:--:-- --:--:-- --:--:--     0\n",
            "100  201M  100  201M    0     0  45.9M      0  0:00:04  0:00:04 --:--:-- 55.6M\n"
          ]
        }
      ]
    },
    {
      "cell_type": "markdown",
      "source": [
        "Déplacement du fichier <u>purchases.txt</u> dans le répertoire <myinput>"
      ],
      "metadata": {
        "id": "A4UhTIPWHalM"
      }
    },
    {
      "cell_type": "code",
      "source": [
        "!mv purchases.txt ~/myinput/purchases.txt"
      ],
      "metadata": {
        "id": "pxrmwexRvtra"
      },
      "execution_count": 8,
      "outputs": []
    },
    {
      "cell_type": "markdown",
      "source": [
        "Vérification que les fichiers ont été bien copiés"
      ],
      "metadata": {
        "id": "TU3iICMSbt5b"
      }
    },
    {
      "cell_type": "code",
      "source": [
        "!ls /usr/myinput"
      ],
      "metadata": {
        "id": "9pNAZrlXvxax",
        "colab": {
          "base_uri": "https://localhost:8080/"
        },
        "outputId": "3ab83d8e-ee42-429a-e9da-aa44da49ae49"
      },
      "execution_count": 9,
      "outputs": [
        {
          "output_type": "stream",
          "name": "stdout",
          "text": [
            "ls: cannot access '/usr/myinput': No such file or directory\n"
          ]
        }
      ]
    },
    {
      "cell_type": "code",
      "source": [
        "from google.colab import drive\n",
        "drive.mount('/content/drive')"
      ],
      "metadata": {
        "colab": {
          "base_uri": "https://localhost:8080/"
        },
        "id": "-VDIcUt7W5f2",
        "outputId": "fa76a413-c2db-4b20-957f-ce7baaf66748"
      },
      "execution_count": 10,
      "outputs": [
        {
          "output_type": "stream",
          "name": "stdout",
          "text": [
            "Mounted at /content/drive\n"
          ]
        }
      ]
    },
    {
      "cell_type": "markdown",
      "source": [
        "Affichage des premiers lignes du fichier. Le format des enregistrement est le suivant:\n",
        "<table border='1'><tr>\n",
        "<td>Date</td><td>Heure</td><td>Magasin</td><td>Produit</td><td>Montant</td><td>Moyen_de_paiement</td>\n",
        "</tr></table>\n",
        "La tabulation <b>\\t</b> est utilisée comme séparateur de colonne ✅"
      ],
      "metadata": {
        "id": "bg4_s72GbrXI"
      }
    },
    {
      "cell_type": "code",
      "source": [
        "!head -50  ~/myinput/purchases.txt"
      ],
      "metadata": {
        "id": "cLXZcDQeWUlE"
      },
      "execution_count": null,
      "outputs": []
    },
    {
      "cell_type": "markdown",
      "source": [
        "#QUESTION4 : Le nombre total des ventes et la valeur totale des ventes de tous magasins confondus"
      ],
      "metadata": {
        "id": "jt3jvRIzPQsj"
      }
    },
    {
      "cell_type": "code",
      "source": [
        "#!/usr/bin/python\n",
        "import sys\n",
        "# Mettez vos instructions ...\n",
        "for line in sys.stdin:\n",
        "  data = line.strip().split(\"\\t\")\n",
        "  if len(data) == 6:\n",
        "    date, time, store, item, amount, payment = data\n",
        "    print(store, \"\\t1\\t\", amount)"
      ],
      "metadata": {
        "id": "5AS-LtWwPc1-"
      },
      "execution_count": 12,
      "outputs": []
    },
    {
      "cell_type": "code",
      "source": [
        "#!/usr/bin/python\n",
        "import sys\n",
        "# Mettez vos instructions ...\n",
        "for line in sys.stdin:\n",
        "  data = line.strip().split(\"\\t\")\n",
        "  if len(data) == 6:\n",
        "    date, time, store, item, amount, payment = data\n",
        "    print(item, \"\\t\", amount)"
      ],
      "metadata": {
        "id": "auwbaGj-ZQDJ"
      },
      "execution_count": 28,
      "outputs": []
    },
    {
      "cell_type": "code",
      "source": [
        "# All cell codes are stored in a List variable \"In\"\n",
        "with open('/content/mapper.py', 'w') as f:\n",
        "  f.write(In[28]) \n",
        "f.close()"
      ],
      "metadata": {
        "id": "h5rH0VtFTkIL"
      },
      "execution_count": 29,
      "outputs": []
    },
    {
      "cell_type": "code",
      "source": [
        "!chmod u+rwx /content/mapper.py"
      ],
      "metadata": {
        "id": "uF1Ki5JGUGa-"
      },
      "execution_count": 19,
      "outputs": []
    },
    {
      "cell_type": "code",
      "source": [
        "!head -10 ~/myinput/purchases.txt | python3 /content/mapper.py"
      ],
      "metadata": {
        "id": "UhXJEqbeUNW_",
        "outputId": "0166ec48-4ab5-47fe-ba12-a536f8e90e25",
        "colab": {
          "base_uri": "https://localhost:8080/"
        }
      },
      "execution_count": 38,
      "outputs": [
        {
          "output_type": "stream",
          "name": "stdout",
          "text": [
            "Men's Clothing \t 214.05\n",
            "Women's Clothing \t 153.57\n",
            "Music \t 66.08\n",
            "Pet Supplies \t 493.51\n",
            "Children's Clothing \t 235.63\n",
            "Men's Clothing \t 247.18\n",
            "Cameras \t 379.6\n",
            "Consumer Electronics \t 296.8\n",
            "Toys \t 25.38\n",
            "Toys \t 213.88\n"
          ]
        }
      ]
    },
    {
      "cell_type": "code",
      "source": [
        "#!/usr/bin/python\n",
        "from operator import itemgetter\n",
        "import sys\n",
        "# Mettez vos instructions ...\n",
        "salesTotal = 0\n",
        "compteur = 0\n",
        "\n",
        "for line in sys.stdin:\n",
        "  data = line.strip().split(\"\\t\")\n",
        "  if len(data) != 2:\n",
        "    continue\n",
        "  compteur +=1  \n",
        "  salesTotal += float (data[1])\n",
        "\n",
        "if compteur != 0:\n",
        "  print(\"Nombre total de vente = \", compteur, \"Montant total = \", str(salesTotal))"
      ],
      "metadata": {
        "id": "y5iu_iyFHiAq"
      },
      "execution_count": 30,
      "outputs": []
    },
    {
      "cell_type": "code",
      "source": [
        "#!/usr/bin/python\n",
        "from operator import itemgetter\n",
        "import sys\n",
        "# Mettez vos instructions ...\n",
        "salesTotalVente = 0\n",
        "salesTotalAmount = 0\n",
        "oldKey = None\n",
        "\n",
        "print(\"Magazins\\tNbresVentes\\tChiffreAffaire\")\n",
        "for line in sys.stdin:\n",
        "  data = line.strip().split(\"\\t\")\n",
        "  if len(data) != 3:\n",
        "    continue\n",
        "  \n",
        "  thisKey, thisVente, thisAmount = data\n",
        "  if oldKey and oldKey != thisKey:\n",
        "    print(oldKey, \"\\t\", str(salesTotalVente), \"\\t\", str(salesTotalAmount))\n",
        "    salesTotalVente = 0\n",
        "    \n",
        "  oldKey = thisKey\n",
        "  salesTotalVente += int (thisVente)\n",
        "  salesTotalAmount += float(thisAmount) \n",
        "\n",
        "if oldKey != None:\n",
        "  print(oldKey, \"\\t\", str(salesTotalVente), \"\\t\", str(salesTotalAmount))"
      ],
      "metadata": {
        "id": "NG3GIx0zUeAj",
        "colab": {
          "base_uri": "https://localhost:8080/"
        },
        "outputId": "235d6c8e-935a-4c8a-e38e-b852e589d369"
      },
      "execution_count": 16,
      "outputs": [
        {
          "output_type": "stream",
          "name": "stdout",
          "text": [
            "Magazins\tNbresVentes\tChiffreAffaire\n"
          ]
        }
      ]
    },
    {
      "cell_type": "code",
      "source": [
        "# All cell codes are stored in a List variable \"In\"\n",
        "with open('/content/reducer.py', 'w') as f:\n",
        "  f.write(In[30]) \n",
        "f.close()"
      ],
      "metadata": {
        "id": "Qsb74dPfUsaC"
      },
      "execution_count": 31,
      "outputs": []
    },
    {
      "cell_type": "code",
      "source": [
        "!chmod u+rwx /content/reducer.py"
      ],
      "metadata": {
        "id": "6fFDrlh7U7mk"
      },
      "execution_count": 32,
      "outputs": []
    },
    {
      "cell_type": "code",
      "source": [
        "!head -10 ~/myinput/purchases.txt | python3 /content/mapper.py | sort | python3 /content/reducer.py"
      ],
      "metadata": {
        "id": "FIddlmesVA8-",
        "outputId": "416d842e-133a-4da1-d3df-6ad196d293c9",
        "colab": {
          "base_uri": "https://localhost:8080/"
        }
      },
      "execution_count": 33,
      "outputs": [
        {
          "output_type": "stream",
          "name": "stdout",
          "text": [
            "Nombre total de vente =  10 Montant total =  2325.6800000000003\n"
          ]
        }
      ]
    },
    {
      "cell_type": "code",
      "source": [
        "!rm -r ~/myoutput\n",
        "!/usr/local/hadoop-3.3.0/bin/hadoop jar /usr/local/hadoop-3.3.0/share/hadoop/tools/lib/hadoop-streaming-3.3.0.jar -input ~/myinput -output ~/myoutput -file /content/mapper.py  -file /content/reducer.py  -mapper 'python mapper.py'  -reducer 'python reducer.py'"
      ],
      "metadata": {
        "id": "N4p4sUndSMbG"
      },
      "execution_count": null,
      "outputs": []
    },
    {
      "cell_type": "code",
      "source": [
        "!ls ~/myoutput"
      ],
      "metadata": {
        "id": "HoTo3-UCOfRQ",
        "outputId": "e06ff936-4dfe-419f-fc21-b4e096ea74f8",
        "colab": {
          "base_uri": "https://localhost:8080/"
        }
      },
      "execution_count": 25,
      "outputs": [
        {
          "output_type": "stream",
          "name": "stdout",
          "text": [
            "part-00000  _SUCCESS\n"
          ]
        }
      ]
    },
    {
      "cell_type": "code",
      "source": [
        "!tail -n 30 ~/myoutput/part-00000"
      ],
      "metadata": {
        "id": "M7yZacfFSUhh",
        "colab": {
          "base_uri": "https://localhost:8080/"
        },
        "outputId": "abcfecad-e083-4923-9ad8-1c133d552ffb"
      },
      "execution_count": 37,
      "outputs": [
        {
          "output_type": "stream",
          "name": "stdout",
          "text": [
            "Nombre total de vente =  4138476 Montant total =  1034457953.2599641\t\n"
          ]
        }
      ]
    }
  ]
}