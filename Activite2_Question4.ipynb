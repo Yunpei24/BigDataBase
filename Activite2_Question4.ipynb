{
  "nbformat": 4,
  "nbformat_minor": 0,
  "metadata": {
    "colab": {
      "provenance": [],
      "authorship_tag": "ABX9TyPurojvEcxBUCqv0R0Ru32t",
      "include_colab_link": true
    },
    "kernelspec": {
      "name": "python3",
      "display_name": "Python 3"
    },
    "language_info": {
      "name": "python"
    },
    "accelerator": "GPU",
    "gpuClass": "standard"
  },
  "cells": [
    {
      "cell_type": "markdown",
      "metadata": {
        "id": "view-in-github",
        "colab_type": "text"
      },
      "source": [
        "<a href=\"https://colab.research.google.com/github/Yunpei24/BigDataBase/blob/main/Activite2_Question4.ipynb\" target=\"_parent\"><img src=\"https://colab.research.google.com/assets/colab-badge.svg\" alt=\"Open In Colab\"/></a>"
      ]
    },
    {
      "cell_type": "markdown",
      "source": [
        "#ACTIVITE2"
      ],
      "metadata": {
        "id": "hQRw5bKPO-3G"
      }
    },
    {
      "cell_type": "markdown",
      "source": [
        "Installation du JDK"
      ],
      "metadata": {
        "id": "9z7VzgdtcHT7"
      }
    },
    {
      "cell_type": "code",
      "execution_count": 1,
      "metadata": {
        "id": "VG2QZ2-puh60"
      },
      "outputs": [],
      "source": [
        "!apt-get install openjdk-8-jdk-headless -qq > /dev/null"
      ]
    },
    {
      "cell_type": "markdown",
      "source": [
        "Création de la variable d'environnement <JAVA_HOME> pour situer l'emplacement d'installationde Java "
      ],
      "metadata": {
        "id": "aHs729CucFMv"
      }
    },
    {
      "cell_type": "code",
      "source": [
        "import os\n",
        "os.environ[\"JAVA_HOME\"] = \"/usr/lib/jvm/java-8-openjdk-amd64\""
      ],
      "metadata": {
        "id": "6SJ7l69avQP0"
      },
      "execution_count": 2,
      "outputs": []
    },
    {
      "cell_type": "markdown",
      "source": [
        "# Installation du framework Hadoop"
      ],
      "metadata": {
        "id": "zATmQRKXv6y5"
      }
    },
    {
      "cell_type": "markdown",
      "source": [
        "Téléchargement depuis les archives de la fondation Apache"
      ],
      "metadata": {
        "id": "M2GpL7zccB-E"
      }
    },
    {
      "cell_type": "code",
      "source": [
        "!wget https://archive.apache.org/dist/hadoop/common/hadoop-3.3.0/hadoop-3.3.0.tar.gz"
      ],
      "metadata": {
        "id": "fIzgKOjjvVZn"
      },
      "execution_count": null,
      "outputs": []
    },
    {
      "cell_type": "markdown",
      "source": [
        "Extraction de l'archive"
      ],
      "metadata": {
        "id": "d3tokPwWb_TU"
      }
    },
    {
      "cell_type": "code",
      "source": [
        "!tar -xzvf hadoop-3.3.0.tar.gz"
      ],
      "metadata": {
        "id": "7Qsxg2nVvcql"
      },
      "execution_count": null,
      "outputs": []
    },
    {
      "cell_type": "markdown",
      "source": [
        "Copie du dossier extrait dans l'emplacement <user/local>"
      ],
      "metadata": {
        "id": "KMihsUJcb8mc"
      }
    },
    {
      "cell_type": "code",
      "source": [
        "!cp -r hadoop-3.3.0/ /usr/local/"
      ],
      "metadata": {
        "id": "qiZu2f2MvfFJ"
      },
      "execution_count": 5,
      "outputs": []
    },
    {
      "cell_type": "markdown",
      "source": [
        "## Programmation de tâches distribuées avec <i>MapReduce</i>"
      ],
      "metadata": {
        "id": "cPA7R0jj7Efs"
      }
    },
    {
      "cell_type": "markdown",
      "source": [
        "Création d'un repertoire <myinput> pour contenir le jeu de données à tester durant cet exercice e d'un second pour les résultats du traitement distribué"
      ],
      "metadata": {
        "id": "zrgy3AhU6-ue"
      }
    },
    {
      "cell_type": "code",
      "source": [
        "!mkdir -p ~/myinput\n",
        "!mkdir -p ~/myoutput"
      ],
      "metadata": {
        "id": "CdW4R_x5vqoo"
      },
      "execution_count": 6,
      "outputs": []
    },
    {
      "cell_type": "markdown",
      "source": [
        "Télachargement du jeu de données dans le fichier <u>purchases.txt</u>"
      ],
      "metadata": {
        "id": "0YYbaWQKbwgI"
      }
    },
    {
      "cell_type": "code",
      "source": [
        "!curl -L -o 'purchases.txt' 'https://drive.google.com/u/0/uc?id=1NS-PSXW8bSNpzFH4XRbtmMnMGhXBdYy6&export=download&confirm=t'"
      ],
      "metadata": {
        "id": "Z1H5BOHtGgvK"
      },
      "execution_count": null,
      "outputs": []
    },
    {
      "cell_type": "markdown",
      "source": [
        "Déplacement du fichier <u>purchases.txt</u> dans le répertoire <myinput>"
      ],
      "metadata": {
        "id": "A4UhTIPWHalM"
      }
    },
    {
      "cell_type": "code",
      "source": [
        "!mv purchases.txt ~/myinput/purchases.txt"
      ],
      "metadata": {
        "id": "pxrmwexRvtra"
      },
      "execution_count": 8,
      "outputs": []
    },
    {
      "cell_type": "markdown",
      "source": [
        "Vérification que les fichiers ont été bien copiés"
      ],
      "metadata": {
        "id": "TU3iICMSbt5b"
      }
    },
    {
      "cell_type": "code",
      "source": [
        "!ls /usr/myinput"
      ],
      "metadata": {
        "id": "9pNAZrlXvxax",
        "colab": {
          "base_uri": "https://localhost:8080/"
        },
        "outputId": "17e24530-d6ff-4317-ca01-ea605db1ae36"
      },
      "execution_count": 9,
      "outputs": [
        {
          "output_type": "stream",
          "name": "stdout",
          "text": [
            "ls: cannot access '/usr/myinput': No such file or directory\n"
          ]
        }
      ]
    },
    {
      "cell_type": "code",
      "source": [
        "from google.colab import drive\n",
        "drive.mount('/content/drive')"
      ],
      "metadata": {
        "colab": {
          "base_uri": "https://localhost:8080/"
        },
        "id": "-VDIcUt7W5f2",
        "outputId": "574cc37a-a734-460f-bebe-a4a00ec70885"
      },
      "execution_count": 10,
      "outputs": [
        {
          "output_type": "stream",
          "name": "stdout",
          "text": [
            "Mounted at /content/drive\n"
          ]
        }
      ]
    },
    {
      "cell_type": "markdown",
      "source": [
        "Affichage des premiers lignes du fichier. Le format des enregistrement est le suivant:\n",
        "<table border='1'><tr>\n",
        "<td>Date</td><td>Heure</td><td>Magasin</td><td>Produit</td><td>Montant</td><td>Moyen_de_paiement</td>\n",
        "</tr></table>\n",
        "La tabulation <b>\\t</b> est utilisée comme séparateur de colonne ✅"
      ],
      "metadata": {
        "id": "bg4_s72GbrXI"
      }
    },
    {
      "cell_type": "code",
      "source": [
        "!head -5  ~/myinput/purchases.txt"
      ],
      "metadata": {
        "colab": {
          "base_uri": "https://localhost:8080/"
        },
        "id": "cLXZcDQeWUlE",
        "outputId": "38de9190-51b9-4c45-b1d2-13e5dc3f3d10"
      },
      "execution_count": 12,
      "outputs": [
        {
          "output_type": "stream",
          "name": "stdout",
          "text": [
            "2012-01-01\t09:00\tSan Jose\tMen's Clothing\t214.05\tAmex\n",
            "2012-01-01\t09:00\tFort Worth\tWomen's Clothing\t153.57\tVisa\n",
            "2012-01-01\t09:00\tSan Diego\tMusic\t66.08\tCash\n",
            "2012-01-01\t09:00\tPittsburgh\tPet Supplies\t493.51\tDiscover\n",
            "2012-01-01\t09:00\tOmaha\tChildren's Clothing\t235.63\tMasterCard\n"
          ]
        }
      ]
    },
    {
      "cell_type": "markdown",
      "source": [
        "#QUESTION4 : Le nombre total des ventes et la valeur totale des ventes de tous magasins confondus"
      ],
      "metadata": {
        "id": "jt3jvRIzPQsj"
      }
    },
    {
      "cell_type": "code",
      "source": [
        "#!/usr/bin/python\n",
        "import sys\n",
        "# Mettez vos instructions ...\n",
        "for line in sys.stdin:\n",
        "  data = line.strip().split(\"\\t\")\n",
        "  if len(data) == 6:\n",
        "    date, time, store, item, amount, payment = data\n",
        "    print(store, \"\\t1\\t\", amount)"
      ],
      "metadata": {
        "id": "5AS-LtWwPc1-"
      },
      "execution_count": 13,
      "outputs": []
    },
    {
      "cell_type": "code",
      "source": [
        "# All cell codes are stored in a List variable \"In\"\n",
        "with open('/content/mapper.py', 'w') as f:\n",
        "  f.write(In[13]) \n",
        "f.close()"
      ],
      "metadata": {
        "id": "h5rH0VtFTkIL"
      },
      "execution_count": 14,
      "outputs": []
    },
    {
      "cell_type": "code",
      "source": [
        "!chmod u+rwx /content/mapper.py"
      ],
      "metadata": {
        "id": "uF1Ki5JGUGa-"
      },
      "execution_count": 15,
      "outputs": []
    },
    {
      "cell_type": "code",
      "source": [
        "!head -10 ~/myinput/purchases.txt | python3 /content/mapper.py"
      ],
      "metadata": {
        "id": "UhXJEqbeUNW_"
      },
      "execution_count": null,
      "outputs": []
    },
    {
      "cell_type": "code",
      "source": [
        "#!/usr/bin/python\n",
        "from operator import itemgetter\n",
        "import sys\n",
        "# Mettez vos instructions ...\n",
        "salesTotalVente = 0\n",
        "salesTotalAmount = 0\n",
        "oldKey = None\n",
        "\n",
        "print(\"Magazins\\tNbresVentes\\tChiffreAffaire\")\n",
        "for line in sys.stdin:\n",
        "  data = line.strip().split(\"\\t\")\n",
        "  if len(data) != 3:\n",
        "    continue\n",
        "  \n",
        "  thisKey, thisVente, thisAmount = data\n",
        "  if oldKey and oldKey != thisKey:\n",
        "    print(oldKey, \"\\t\", str(salesTotalVente), \"\\t\", str(salesTotalAmount))\n",
        "    salesTotalVente = 0\n",
        "    \n",
        "  oldKey = thisKey\n",
        "  salesTotalVente += int (thisVente)\n",
        "  salesTotalAmount += float(thisAmount) \n",
        "\n",
        "if oldKey != None:\n",
        "  print(oldKey, \"\\t\", str(salesTotalVente), \"\\t\", str(salesTotalAmount))"
      ],
      "metadata": {
        "id": "NG3GIx0zUeAj",
        "colab": {
          "base_uri": "https://localhost:8080/"
        },
        "outputId": "2128b058-3641-43da-ea28-cc26795c2c78"
      },
      "execution_count": 28,
      "outputs": [
        {
          "output_type": "stream",
          "name": "stdout",
          "text": [
            "Magazins\tNbresVentes\tChiffreAffaire\n"
          ]
        }
      ]
    },
    {
      "cell_type": "code",
      "source": [
        "# All cell codes are stored in a List variable \"In\"\n",
        "with open('/content/reducer.py', 'w') as f:\n",
        "  f.write(In[28]) \n",
        "f.close()"
      ],
      "metadata": {
        "id": "Qsb74dPfUsaC"
      },
      "execution_count": 29,
      "outputs": []
    },
    {
      "cell_type": "code",
      "source": [
        "!chmod u+rwx /content/reducer.py"
      ],
      "metadata": {
        "id": "6fFDrlh7U7mk"
      },
      "execution_count": 30,
      "outputs": []
    },
    {
      "cell_type": "code",
      "source": [
        "!head -10 ~/myinput/purchases.txt | python3 /content/mapper.py | sort | python3 /content/reducer.py"
      ],
      "metadata": {
        "id": "FIddlmesVA8-",
        "outputId": "f105c08a-e427-45b9-807f-fa59a822a498",
        "colab": {
          "base_uri": "https://localhost:8080/"
        }
      },
      "execution_count": 36,
      "outputs": [
        {
          "output_type": "stream",
          "name": "stdout",
          "text": [
            "Magazins\tNbresVentes\tChiffreAffaire\n",
            "Austin  \t 1 \t 379.6\n",
            "Corpus Christi  \t 1 \t 404.98\n",
            "Fort Worth  \t 2 \t 772.43\n",
            "New York  \t 1 \t 1069.23\n",
            "Omaha  \t 1 \t 1304.8600000000001\n",
            "Pittsburgh  \t 1 \t 1798.3700000000001\n",
            "San Diego  \t 1 \t 1864.45\n",
            "San Jose  \t 1 \t 2078.5\n",
            "Stockton  \t 1 \t 2325.68\n"
          ]
        }
      ]
    },
    {
      "cell_type": "code",
      "source": [
        "!rm -r ~/myoutput\n",
        "!/usr/local/hadoop-3.3.0/bin/hadoop jar /usr/local/hadoop-3.3.0/share/hadoop/tools/lib/hadoop-streaming-3.3.0.jar -input ~/myinput -output ~/myoutput -file /content/mapper.py  -file /content/reducer.py  -mapper 'python mapper.py'  -reducer 'python reducer.py'"
      ],
      "metadata": {
        "id": "N4p4sUndSMbG"
      },
      "execution_count": null,
      "outputs": []
    },
    {
      "cell_type": "code",
      "source": [
        "!ls ~/myoutput"
      ],
      "metadata": {
        "id": "HoTo3-UCOfRQ",
        "outputId": "fd764412-e494-4a9c-b385-d8d07d82220e",
        "colab": {
          "base_uri": "https://localhost:8080/"
        }
      },
      "execution_count": 33,
      "outputs": [
        {
          "output_type": "stream",
          "name": "stdout",
          "text": [
            "part-00000  _SUCCESS\n"
          ]
        }
      ]
    },
    {
      "cell_type": "code",
      "source": [
        "!head -n 30 ~/myoutput/part-00000"
      ],
      "metadata": {
        "id": "M7yZacfFSUhh",
        "colab": {
          "base_uri": "https://localhost:8080/"
        },
        "outputId": "8c74d780-c66f-41c1-995f-38d6bcc8a6fd"
      },
      "execution_count": 38,
      "outputs": [
        {
          "output_type": "stream",
          "name": "stdout",
          "text": [
            "Magazins\tNbresVentes\tChiffreAffaire\n",
            "Albuquerque  \t 40345 \t 10052311.42000001\n",
            "Anaheim  \t 40086 \t 20128727.780000057\n",
            "Anchorage  \t 39806 \t 30062228.179999754\n",
            "Arlington  \t 40348 \t 40134436.150000244\n",
            "Atlanta  \t 40168 \t 50131582.84999982\n",
            "Aurora  \t 39808 \t 60124553.77000028\n",
            "Austin  \t 40332 \t 70181712.67000116\n",
            "Bakersfield  \t 40326 \t 80212921.59000231\n",
            "Baltimore  \t 40196 \t 90309443.04000184\n",
            "Baton Rouge  \t 40387 \t 100440716.27000271\n",
            "Birmingham  \t 40253 \t 110517322.79000346\n",
            "Boise  \t 40203 \t 120556489.53000313\n",
            "Boston  \t 40338 \t 130595962.81000313\n",
            "Buffalo  \t 40053 \t 140597904.00000566\n",
            "Chandler  \t 39826 \t 150517463.86000377\n",
            "Charlotte  \t 40509 \t 160629995.20000333\n",
            "Chesapeake  \t 40288 \t 170668500.12000126\n",
            "Chicago  \t 40220 \t 180731022.19000298\n",
            "Chula Vista  \t 40080 \t 190705973.5300034\n",
            "Cincinnati  \t 40452 \t 200845479.2700075\n",
            "Cleveland  \t 40313 \t 210913315.11000627\n",
            "Colorado Springs  \t 40389 \t 220974420.98000512\n",
            "Columbus  \t 40225 \t 231009662.01000178\n",
            "Corpus Christi  \t 39925 \t 240986184.78000286\n",
            "Dallas  \t 40368 \t 251052733.23000413\n",
            "Denver  \t 40199 \t 261084268.10000643\n",
            "Detroit  \t 39999 \t 271063528.860009\n",
            "Durham  \t 40501 \t 281217419.07000697\n",
            "El Paso  \t 39882 \t 291233829.04000473\n"
          ]
        }
      ]
    }
  ]
}