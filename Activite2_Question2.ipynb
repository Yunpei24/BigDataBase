{
  "nbformat": 4,
  "nbformat_minor": 0,
  "metadata": {
    "colab": {
      "provenance": [],
      "authorship_tag": "ABX9TyNjQABfCXDnBs8yoDQH5dj3",
      "include_colab_link": true
    },
    "kernelspec": {
      "name": "python3",
      "display_name": "Python 3"
    },
    "language_info": {
      "name": "python"
    }
  },
  "cells": [
    {
      "cell_type": "markdown",
      "metadata": {
        "id": "view-in-github",
        "colab_type": "text"
      },
      "source": [
        "<a href=\"https://colab.research.google.com/github/Yunpei24/BigDataBase/blob/main/Activite2_Question2.ipynb\" target=\"_parent\"><img src=\"https://colab.research.google.com/assets/colab-badge.svg\" alt=\"Open In Colab\"/></a>"
      ]
    },
    {
      "cell_type": "markdown",
      "source": [
        "#ACTIVITE2"
      ],
      "metadata": {
        "id": "hQRw5bKPO-3G"
      }
    },
    {
      "cell_type": "markdown",
      "source": [
        "Installation du JDK"
      ],
      "metadata": {
        "id": "9z7VzgdtcHT7"
      }
    },
    {
      "cell_type": "code",
      "execution_count": 1,
      "metadata": {
        "id": "VG2QZ2-puh60"
      },
      "outputs": [],
      "source": [
        "!apt-get install openjdk-8-jdk-headless -qq > /dev/null"
      ]
    },
    {
      "cell_type": "markdown",
      "source": [
        "Création de la variable d'environnement <JAVA_HOME> pour situer l'emplacement d'installationde Java "
      ],
      "metadata": {
        "id": "aHs729CucFMv"
      }
    },
    {
      "cell_type": "code",
      "source": [
        "import os\n",
        "os.environ[\"JAVA_HOME\"] = \"/usr/lib/jvm/java-8-openjdk-amd64\""
      ],
      "metadata": {
        "id": "6SJ7l69avQP0"
      },
      "execution_count": 2,
      "outputs": []
    },
    {
      "cell_type": "markdown",
      "source": [
        "# Installation du framework Hadoop"
      ],
      "metadata": {
        "id": "zATmQRKXv6y5"
      }
    },
    {
      "cell_type": "markdown",
      "source": [
        "Téléchargement depuis les archives de la fondation Apache"
      ],
      "metadata": {
        "id": "M2GpL7zccB-E"
      }
    },
    {
      "cell_type": "code",
      "source": [
        "!wget https://archive.apache.org/dist/hadoop/common/hadoop-3.3.0/hadoop-3.3.0.tar.gz"
      ],
      "metadata": {
        "id": "fIzgKOjjvVZn",
        "colab": {
          "base_uri": "https://localhost:8080/"
        },
        "outputId": "11d9f199-88a7-491f-aff4-d312709d63c3"
      },
      "execution_count": 3,
      "outputs": [
        {
          "output_type": "stream",
          "name": "stdout",
          "text": [
            "--2023-01-16 14:56:08--  https://archive.apache.org/dist/hadoop/common/hadoop-3.3.0/hadoop-3.3.0.tar.gz\n",
            "Resolving archive.apache.org (archive.apache.org)... 138.201.131.134, 2a01:4f8:172:2ec5::2\n",
            "Connecting to archive.apache.org (archive.apache.org)|138.201.131.134|:443... connected.\n",
            "HTTP request sent, awaiting response... 200 OK\n",
            "Length: 500749234 (478M) [application/x-gzip]\n",
            "Saving to: ‘hadoop-3.3.0.tar.gz’\n",
            "\n",
            "hadoop-3.3.0.tar.gz 100%[===================>] 477.55M  1.20MB/s    in 10m 52s \n",
            "\n",
            "2023-01-16 15:07:00 (750 KB/s) - ‘hadoop-3.3.0.tar.gz’ saved [500749234/500749234]\n",
            "\n"
          ]
        }
      ]
    },
    {
      "cell_type": "markdown",
      "source": [
        "Extraction de l'archive"
      ],
      "metadata": {
        "id": "d3tokPwWb_TU"
      }
    },
    {
      "cell_type": "code",
      "source": [
        "!tar -xzvf hadoop-3.3.0.tar.gz"
      ],
      "metadata": {
        "id": "7Qsxg2nVvcql"
      },
      "execution_count": null,
      "outputs": []
    },
    {
      "cell_type": "markdown",
      "source": [
        "Copie du dossier extrait dans l'emplacement <user/local>"
      ],
      "metadata": {
        "id": "KMihsUJcb8mc"
      }
    },
    {
      "cell_type": "code",
      "source": [
        "!cp -r hadoop-3.3.0/ /usr/local/"
      ],
      "metadata": {
        "id": "qiZu2f2MvfFJ"
      },
      "execution_count": 5,
      "outputs": []
    },
    {
      "cell_type": "markdown",
      "source": [
        "## Programmation de tâches distribuées avec <i>MapReduce</i>"
      ],
      "metadata": {
        "id": "cPA7R0jj7Efs"
      }
    },
    {
      "cell_type": "markdown",
      "source": [
        "Création d'un repertoire <myinput> pour contenir le jeu de données à tester durant cet exercice e d'un second pour les résultats du traitement distribué"
      ],
      "metadata": {
        "id": "zrgy3AhU6-ue"
      }
    },
    {
      "cell_type": "code",
      "source": [
        "!mkdir -p ~/myinput\n",
        "!mkdir -p ~/myoutput"
      ],
      "metadata": {
        "id": "CdW4R_x5vqoo"
      },
      "execution_count": 6,
      "outputs": []
    },
    {
      "cell_type": "markdown",
      "source": [
        "Télachargement du jeu de données dans le fichier <u>purchases.txt</u>"
      ],
      "metadata": {
        "id": "0YYbaWQKbwgI"
      }
    },
    {
      "cell_type": "code",
      "source": [
        "!curl -L -o 'purchases.txt' 'https://drive.google.com/u/0/uc?id=1NS-PSXW8bSNpzFH4XRbtmMnMGhXBdYy6&export=download&confirm=t'"
      ],
      "metadata": {
        "id": "Z1H5BOHtGgvK",
        "colab": {
          "base_uri": "https://localhost:8080/"
        },
        "outputId": "65c333be-fe61-4927-bfe5-31694c471a03"
      },
      "execution_count": 7,
      "outputs": [
        {
          "output_type": "stream",
          "name": "stdout",
          "text": [
            "  % Total    % Received % Xferd  Average Speed   Time    Time     Time  Current\n",
            "                                 Dload  Upload   Total   Spent    Left  Speed\n",
            "\r  0     0    0     0    0     0      0      0 --:--:-- --:--:-- --:--:--     0\r  0     0    0     0    0     0      0      0 --:--:-- --:--:-- --:--:--     0\n",
            "  0     0    0     0    0     0      0      0 --:--:-- --:--:-- --:--:--     0\n",
            "100  201M  100  201M    0     0  60.3M      0  0:00:03  0:00:03 --:--:-- 69.7M\n"
          ]
        }
      ]
    },
    {
      "cell_type": "markdown",
      "source": [
        "Déplacement du fichier <u>purchases.txt</u> dans le répertoire <myinput>"
      ],
      "metadata": {
        "id": "A4UhTIPWHalM"
      }
    },
    {
      "cell_type": "code",
      "source": [
        "!mv purchases.txt ~/myinput/purchases.txt"
      ],
      "metadata": {
        "id": "pxrmwexRvtra"
      },
      "execution_count": 8,
      "outputs": []
    },
    {
      "cell_type": "markdown",
      "source": [
        "Vérification que les fichiers ont été bien copiés"
      ],
      "metadata": {
        "id": "TU3iICMSbt5b"
      }
    },
    {
      "cell_type": "code",
      "source": [
        "!ls /usr/myinput"
      ],
      "metadata": {
        "id": "9pNAZrlXvxax",
        "colab": {
          "base_uri": "https://localhost:8080/"
        },
        "outputId": "98bd414e-935c-4d42-cef3-6b75f1dba400"
      },
      "execution_count": 9,
      "outputs": [
        {
          "output_type": "stream",
          "name": "stdout",
          "text": [
            "ls: cannot access '/usr/myinput': No such file or directory\n"
          ]
        }
      ]
    },
    {
      "cell_type": "code",
      "source": [
        "from google.colab import drive\n",
        "drive.mount('/content/drive')"
      ],
      "metadata": {
        "colab": {
          "base_uri": "https://localhost:8080/"
        },
        "id": "-VDIcUt7W5f2",
        "outputId": "428ed69e-7269-4a2a-afbe-816a8590f609"
      },
      "execution_count": 10,
      "outputs": [
        {
          "output_type": "stream",
          "name": "stdout",
          "text": [
            "Mounted at /content/drive\n"
          ]
        }
      ]
    },
    {
      "cell_type": "markdown",
      "source": [
        "Affichage des premiers lignes du fichier. Le format des enregistrement est le suivant:\n",
        "<table border='1'><tr>\n",
        "<td>Date</td><td>Heure</td><td>Magasin</td><td>Produit</td><td>Montant</td><td>Moyen_de_paiement</td>\n",
        "</tr></table>\n",
        "La tabulation <b>\\t</b> est utilisée comme séparateur de colonne ✅"
      ],
      "metadata": {
        "id": "bg4_s72GbrXI"
      }
    },
    {
      "cell_type": "code",
      "source": [
        "!head -5  ~/myinput/purchases.txt"
      ],
      "metadata": {
        "colab": {
          "base_uri": "https://localhost:8080/"
        },
        "id": "cLXZcDQeWUlE",
        "outputId": "7658c5d0-9bfc-40cf-cf30-eb9db2b432b9"
      },
      "execution_count": 11,
      "outputs": [
        {
          "output_type": "stream",
          "name": "stdout",
          "text": [
            "2012-01-01\t09:00\tSan Jose\tMen's Clothing\t214.05\tAmex\n",
            "2012-01-01\t09:00\tFort Worth\tWomen's Clothing\t153.57\tVisa\n",
            "2012-01-01\t09:00\tSan Diego\tMusic\t66.08\tCash\n",
            "2012-01-01\t09:00\tPittsburgh\tPet Supplies\t493.51\tDiscover\n",
            "2012-01-01\t09:00\tOmaha\tChildren's Clothing\t235.63\tMasterCard\n"
          ]
        }
      ]
    },
    {
      "cell_type": "markdown",
      "source": [
        "#QUESTION2 : Le chiffre d'affaire réalisé selon les jours de la semaine"
      ],
      "metadata": {
        "id": "jt3jvRIzPQsj"
      }
    },
    {
      "cell_type": "code",
      "source": [
        "#!/usr/bin/python\n",
        "import sys\n",
        "from datetime import date\n",
        "# Mettez vos instructions ...\n",
        "weekdayDic = {\n",
        "    0 : \"Monday\",\n",
        "    1 : \"Tuesday\",\n",
        "    2 : \"Wednesday\",\n",
        "    3 : \"Thursday\",\n",
        "    4 : \"Friday\",\n",
        "    5 : \"Saturday\",\n",
        "    6 : \"Sanday\"\n",
        "}\n",
        "for line in sys.stdin:\n",
        "  data = line.strip().split(\"\\t\")\n",
        "  if len(data) == 6:\n",
        "    dates, time, store, item, amount, payment = data\n",
        "    Day = dates.strip().split(\"-\")\n",
        "    if len(Day) == 3:\n",
        "      year, month, day = Day\n",
        "      weeknum = date(int(year), int(month), int(day)).weekday()\n",
        "\n",
        "    print(weekdayDic[weeknum], \"\\t\", amount)"
      ],
      "metadata": {
        "id": "sylMqWORN7jn"
      },
      "execution_count": 30,
      "outputs": []
    },
    {
      "cell_type": "code",
      "source": [
        "# All cell codes are stored in a List variable \"In\"\n",
        "with open('/content/mapper.py', 'w') as f:\n",
        "  f.write(In[30]) \n",
        "f.close()"
      ],
      "metadata": {
        "id": "y0EsATk3bXBG"
      },
      "execution_count": 31,
      "outputs": []
    },
    {
      "cell_type": "code",
      "source": [
        "!chmod u+rwx /content/mapper.py"
      ],
      "metadata": {
        "id": "4o54WVW0UENR"
      },
      "execution_count": 32,
      "outputs": []
    },
    {
      "cell_type": "markdown",
      "source": [
        "Test du traitement de la phase <map> sur quelques enregistrements"
      ],
      "metadata": {
        "id": "CaCsrIzRTHRV"
      }
    },
    {
      "cell_type": "code",
      "source": [
        "!head -10 ~/myinput/purchases.txt | python3 /content/mapper.py"
      ],
      "metadata": {
        "id": "Kkc1LChRTIoj",
        "outputId": "5d6fb261-f715-41e0-9074-527725a7f6ea",
        "colab": {
          "base_uri": "https://localhost:8080/"
        }
      },
      "execution_count": 33,
      "outputs": [
        {
          "output_type": "stream",
          "name": "stdout",
          "text": [
            "Sanday \t 214.05\n",
            "Sanday \t 153.57\n",
            "Sanday \t 66.08\n",
            "Sanday \t 493.51\n",
            "Sanday \t 235.63\n",
            "Sanday \t 247.18\n",
            "Sanday \t 379.6\n",
            "Sanday \t 296.8\n",
            "Sanday \t 25.38\n",
            "Sanday \t 213.88\n"
          ]
        }
      ]
    },
    {
      "cell_type": "code",
      "source": [
        "#!/usr/bin/python\n",
        "from operator import itemgetter\n",
        "import sys\n",
        "# Mettez vos instructions ...\n",
        "salesTotal = 0\n",
        "oldKey = None\n",
        "\n",
        "for line in sys.stdin:\n",
        "  data = line.strip().split(\"\\t\")\n",
        "  if len(data) != 2:\n",
        "    continue\n",
        "  \n",
        "  thisKey, thisSale = data\n",
        "  if oldKey and oldKey != thisKey:\n",
        "    print(oldKey, \"\\t\", str(salesTotal))\n",
        "    salesTotal = 0\n",
        "    \n",
        "  oldKey = thisKey\n",
        "  salesTotal += float (thisSale)\n",
        "\n",
        "if oldKey != None:\n",
        "  print(oldKey, \"\\t\", str(salesTotal))"
      ],
      "metadata": {
        "id": "yqQYlb1W6-ZS"
      },
      "execution_count": 34,
      "outputs": []
    },
    {
      "cell_type": "code",
      "source": [
        "# All cell codes are stored in a List variable \"In\"\n",
        "with open('/content/reducer.py', 'w') as f:\n",
        "  f.write(In[34]) \n",
        "f.close()"
      ],
      "metadata": {
        "id": "Qsb74dPfUsaC"
      },
      "execution_count": 35,
      "outputs": []
    },
    {
      "cell_type": "code",
      "source": [
        "!chmod u+rwx /content/reducer.py"
      ],
      "metadata": {
        "id": "6fFDrlh7U7mk"
      },
      "execution_count": 36,
      "outputs": []
    },
    {
      "cell_type": "code",
      "source": [
        "!head -20 ~/myinput/purchases.txt | python3 /content/mapper.py | sort | python3 /content/reducer.py"
      ],
      "metadata": {
        "id": "FIddlmesVA8-",
        "outputId": "4b7d8e75-ccd5-4ea5-b10b-a4ceacc1b68d",
        "colab": {
          "base_uri": "https://localhost:8080/"
        }
      },
      "execution_count": 37,
      "outputs": [
        {
          "output_type": "stream",
          "name": "stdout",
          "text": [
            "Sanday  \t 5004.43\n"
          ]
        }
      ]
    },
    {
      "cell_type": "code",
      "source": [
        "!rm -r ~/myoutput\n",
        "!/usr/local/hadoop-3.3.0/bin/hadoop jar /usr/local/hadoop-3.3.0/share/hadoop/tools/lib/hadoop-streaming-3.3.0.jar -input ~/myinput -output ~/myoutput -file /content/mapper.py  -file /content/reducer.py  -mapper 'python mapper.py'  -reducer 'python reducer.py'"
      ],
      "metadata": {
        "id": "N4p4sUndSMbG"
      },
      "execution_count": null,
      "outputs": []
    },
    {
      "cell_type": "code",
      "source": [
        "!tail -n 30 ~/myoutput/part-00000"
      ],
      "metadata": {
        "id": "M7yZacfFSUhh",
        "colab": {
          "base_uri": "https://localhost:8080/"
        },
        "outputId": "51b61255-beed-404a-d6d7-ce201f24197a"
      },
      "execution_count": 39,
      "outputs": [
        {
          "output_type": "stream",
          "name": "stdout",
          "text": [
            "Friday  \t 147414929.5000001\n",
            "Monday  \t 150364112.0699944\n",
            "Sanday  \t 150296795.4699973\n",
            "Saturday  \t 147410177.57000166\n",
            "Thursday  \t 147353780.5700033\n",
            "Tuesday  \t 147246658.13999802\n",
            "Wednesday  \t 144371499.94000185\n"
          ]
        }
      ]
    }
  ]
}