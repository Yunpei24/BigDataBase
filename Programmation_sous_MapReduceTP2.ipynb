{
  "nbformat": 4,
  "nbformat_minor": 0,
  "metadata": {
    "colab": {
      "provenance": [],
      "include_colab_link": true
    },
    "kernelspec": {
      "name": "python3",
      "display_name": "Python 3"
    },
    "language_info": {
      "name": "python"
    }
  },
  "cells": [
    {
      "cell_type": "markdown",
      "metadata": {
        "id": "view-in-github",
        "colab_type": "text"
      },
      "source": [
        "<a href=\"https://colab.research.google.com/github/Yunpei24/BigDataBase/blob/main/Programmation_sous_MapReduceTP2.ipynb\" target=\"_parent\"><img src=\"https://colab.research.google.com/assets/colab-badge.svg\" alt=\"Open In Colab\"/></a>"
      ]
    },
    {
      "cell_type": "markdown",
      "source": [
        "## Introduction à la programmation distribuée sous <i>MapReduce</i>\n",
        "L'objet principal de ce notebook est de maîtriser la programmation de traitement distribué sous <b>MapReduce</b>. \n",
        "Pour rappel, sous Hadoop, il ne revient pas au programmeur applicatif de mettre en œuvre les mécanismes de réplication, ni de gérer la traçabilité des grains et leur réaffectation. Ces tâches sont de la responsabilité du framework. \n",
        "\n",
        "Le programmeur applicatif a néanmoins le rôle de reformuler les algorithmes qu'il souhaite mettre en œuvre sur la plateforme distribuée suivant le mécanisme d’exécution <i>MapReduce</i>, un mécanisme d’exécution très populaire, présent dans plusieurs frameworks distribués.\n",
        "\n",
        "<i>MapReduce</i> décompose l’ensemble des opérations à réaliser en deux types de tâches <b>élémentaires</b> et <b>uniformes</b>, les <i>Map</i> et les <i>Reduce</i>. Chaque donnée passe d'abord par une tâche <i>Map</i> qui la transforme et éventuellement par une seconde tâche <i>Reduce</i>. \n",
        "\n",
        "Aucun ordre d'exécution particulier n'est attendu entre différentes tâches <i>Map</i> ou entre différentes tâches <i>Reduce</i>. Une ou plusieurs tâches <i>Map</i> et/ou <i>Reduce</i> peuvent être facilement assignées à chaque nœud de calcul. Un nœud de calcul peut correspondre à un ordinateur individuel ou à un cœur d'une unité centrale multi-cœur. Dans ce dernier cas, la mémoire vive et le stockage de masse de l’ordinateur sont partagés entre les cœurs.\n",
        "\n",
        "Le fonctionnement général de MapReduce est constitué des étapes suivantes:\n",
        "<ol>\n",
        "<li>L'ensemble de données à traiter est découpé en fragments (<i>chunks</i>).</li>\n",
        "<li>Chaque tâche <i>Map</i> est assignée à un nœud de calcul qui reçoit un ou plusieurs fragments que la tâche <i>Map</i> transforme en une séquence de paires \\[clé, valeur].</li>\n",
        "<li>Chaque tâche <i>Reduce</i> est associée à une ou plusieurs clés et est assignée à un nœud de calcul.</li>\n",
        "<li>Les paires (clé, valeur) produites par les <i>Map</i> sont groupées par clés et stockées sur les nœuds de calcul qui exécuteront les tâches <i>Reduce</i> respectives (étape shuffle).</li>\n",
        "<li>Chaque tâche <i>Reduce</i> combine, pour chaque clé qui lui est associée, les valeurs des paires [clé, valeur] avec cette clé ; les résultats sont stockés et constituent le résultat du traitement.</li>\n",
        "</ol>\n",
        "\n",
        "Le programmeur écrit les fonctions <i>Map</i> et <i>Reduce</i>, le framework se charge du reste comme illustré ci-dessous dans le décompte distribué de la fréquence de chaque mot d'un corpus.\n",
        "<!-- img width=\"70%\" src=\"https://res.cloudinary.com/talend/image/upload/q_auto,w_923,h_486/resources/seo-articles/seo-what-is-mapreduce_gj9ehi.webp\" -->\n",
        "\n",
        "<img width=\"70%\" src=\"https://www.nayaa.fr/bigdata/mr-execution-ex.png\">"
      ],
      "metadata": {
        "id": "-GxUGus3U-R6"
      }
    },
    {
      "cell_type": "markdown",
      "source": [
        "##Installation du Java Development Kit (JDK) \n",
        "Hadoop est écrit en Java et nécessite donc l'installation d'exécution de Java."
      ],
      "metadata": {
        "id": "qW7oVPy2wD_r"
      }
    },
    {
      "cell_type": "markdown",
      "source": [
        "Installation du JDK"
      ],
      "metadata": {
        "id": "9z7VzgdtcHT7"
      }
    },
    {
      "cell_type": "code",
      "execution_count": 1,
      "metadata": {
        "id": "VG2QZ2-puh60"
      },
      "outputs": [],
      "source": [
        "!apt-get install openjdk-8-jdk-headless -qq > /dev/null"
      ]
    },
    {
      "cell_type": "markdown",
      "source": [
        "Création de la variable d'environnement <JAVA_HOME> pour situer l'emplacement d'installationde Java "
      ],
      "metadata": {
        "id": "aHs729CucFMv"
      }
    },
    {
      "cell_type": "code",
      "source": [
        "import os\n",
        "os.environ[\"JAVA_HOME\"] = \"/usr/lib/jvm/java-8-openjdk-amd64\""
      ],
      "metadata": {
        "id": "6SJ7l69avQP0"
      },
      "execution_count": 2,
      "outputs": []
    },
    {
      "cell_type": "markdown",
      "source": [
        "# Installation du framework Hadoop"
      ],
      "metadata": {
        "id": "zATmQRKXv6y5"
      }
    },
    {
      "cell_type": "markdown",
      "source": [
        "Téléchargement depuis les archives de la fondation Apache"
      ],
      "metadata": {
        "id": "M2GpL7zccB-E"
      }
    },
    {
      "cell_type": "code",
      "source": [
        "!wget https://archive.apache.org/dist/hadoop/common/hadoop-3.3.0/hadoop-3.3.0.tar.gz"
      ],
      "metadata": {
        "id": "fIzgKOjjvVZn"
      },
      "execution_count": null,
      "outputs": []
    },
    {
      "cell_type": "markdown",
      "source": [
        "Extraction de l'archive"
      ],
      "metadata": {
        "id": "d3tokPwWb_TU"
      }
    },
    {
      "cell_type": "code",
      "source": [
        "!tar -xzvf hadoop-3.3.0.tar.gz"
      ],
      "metadata": {
        "id": "7Qsxg2nVvcql"
      },
      "execution_count": null,
      "outputs": []
    },
    {
      "cell_type": "markdown",
      "source": [
        "Copie du dossier extrait dans l'emplacement <user/local>"
      ],
      "metadata": {
        "id": "KMihsUJcb8mc"
      }
    },
    {
      "cell_type": "code",
      "source": [
        "!cp -r hadoop-3.3.0/ /usr/local/"
      ],
      "metadata": {
        "id": "qiZu2f2MvfFJ"
      },
      "execution_count": 5,
      "outputs": []
    },
    {
      "cell_type": "markdown",
      "source": [
        "## Programmation de tâches distribuées avec <i>MapReduce</i>"
      ],
      "metadata": {
        "id": "cPA7R0jj7Efs"
      }
    },
    {
      "cell_type": "markdown",
      "source": [
        "Création d'un repertoire <myinput> pour contenir le jeu de données à tester durant cet exercice e d'un second pour les résultats du traitement distribué"
      ],
      "metadata": {
        "id": "zrgy3AhU6-ue"
      }
    },
    {
      "cell_type": "code",
      "source": [
        "!mkdir -p ~/myinput\n",
        "!mkdir -p ~/myoutput"
      ],
      "metadata": {
        "id": "CdW4R_x5vqoo"
      },
      "execution_count": 6,
      "outputs": []
    },
    {
      "cell_type": "markdown",
      "source": [
        "Télachargement du jeu de données dans le fichier <u>purchases.txt</u>"
      ],
      "metadata": {
        "id": "0YYbaWQKbwgI"
      }
    },
    {
      "cell_type": "code",
      "source": [
        "!curl -L -o 'purchases.txt' 'https://drive.google.com/u/0/uc?id=1NS-PSXW8bSNpzFH4XRbtmMnMGhXBdYy6&export=download&confirm=t'"
      ],
      "metadata": {
        "id": "Z1H5BOHtGgvK",
        "colab": {
          "base_uri": "https://localhost:8080/"
        },
        "outputId": "9786a910-d4ff-4349-8792-13e9b9316341"
      },
      "execution_count": 29,
      "outputs": [
        {
          "output_type": "stream",
          "name": "stdout",
          "text": [
            "  % Total    % Received % Xferd  Average Speed   Time    Time     Time  Current\n",
            "                                 Dload  Upload   Total   Spent    Left  Speed\n",
            "\r  0     0    0     0    0     0      0      0 --:--:-- --:--:-- --:--:--     0\r  0     0    0     0    0     0      0      0 --:--:-- --:--:-- --:--:--     0\n",
            "  0     0    0     0    0     0      0      0 --:--:-- --:--:-- --:--:--     0\n",
            "100  201M  100  201M    0     0   141M      0  0:00:01  0:00:01 --:--:--  186M\n"
          ]
        }
      ]
    },
    {
      "cell_type": "markdown",
      "source": [
        "Déplacement du fichier <u>purchases.txt</u> dans le répertoire <myinput>"
      ],
      "metadata": {
        "id": "A4UhTIPWHalM"
      }
    },
    {
      "cell_type": "code",
      "source": [
        "!mv purchases.txt ~/myinput/purchases.txt"
      ],
      "metadata": {
        "id": "pxrmwexRvtra",
        "colab": {
          "base_uri": "https://localhost:8080/"
        },
        "outputId": "5c942d1d-5c98-4db4-8c03-d0a748e6dd75"
      },
      "execution_count": 28,
      "outputs": [
        {
          "output_type": "stream",
          "name": "stdout",
          "text": [
            "mv: cannot stat 'purchases.txt': No such file or directory\n"
          ]
        }
      ]
    },
    {
      "cell_type": "markdown",
      "source": [
        "Vérification que les fichiers ont été bien copiés"
      ],
      "metadata": {
        "id": "TU3iICMSbt5b"
      }
    },
    {
      "cell_type": "code",
      "source": [
        "!ls /usr/myinput"
      ],
      "metadata": {
        "id": "9pNAZrlXvxax",
        "colab": {
          "base_uri": "https://localhost:8080/"
        },
        "outputId": "7ce8f70e-35e4-4756-d805-27c216c2a0ad"
      },
      "execution_count": 27,
      "outputs": [
        {
          "output_type": "stream",
          "name": "stdout",
          "text": [
            "ls: cannot access '/usr/myinput': No such file or directory\n"
          ]
        }
      ]
    },
    {
      "cell_type": "markdown",
      "source": [
        "Affichage des premiers lignes du fichier. Le format des enregistrement est le suivant:\n",
        "<table border='1'><tr>\n",
        "<td>Date</td><td>Heure</td><td>Magasin</td><td>Produit</td><td>Montant</td><td>Moyen_de_paiement</td>\n",
        "</tr></table>\n",
        "La tabulation <b>\\t</b> est utilisée comme séparateur de colonne ✅"
      ],
      "metadata": {
        "id": "bg4_s72GbrXI"
      }
    },
    {
      "cell_type": "code",
      "source": [
        "!head -15  ~/myinput/purchases.txt"
      ],
      "metadata": {
        "id": "sz1Hu-tgvz32"
      },
      "execution_count": null,
      "outputs": []
    },
    {
      "cell_type": "code",
      "source": [
        "from google.colab import drive\n",
        "drive.mount('/content/drive')"
      ],
      "metadata": {
        "colab": {
          "base_uri": "https://localhost:8080/"
        },
        "id": "-VDIcUt7W5f2",
        "outputId": "f561c7df-c690-4070-b21b-806854f86202"
      },
      "execution_count": 11,
      "outputs": [
        {
          "output_type": "stream",
          "name": "stdout",
          "text": [
            "Mounted at /content/drive\n"
          ]
        }
      ]
    },
    {
      "cell_type": "markdown",
      "source": [
        "## Activité 1"
      ],
      "metadata": {
        "id": "6Y1p3diBzHnO"
      }
    },
    {
      "cell_type": "markdown",
      "source": [
        "Le travail consiste à utiliser <i>MapReduce</i> avec le langage Python et effectuer un traitement distribué. Notre but est de déterminer le total des achats par magasin en exploitant les données du fichier <purchases.txt>.\n",
        "\n",
        "Vous devrez implémenter les fonctions <i>Map<i> et <i>Reduce</> du traitement."
      ],
      "metadata": {
        "id": "xKN45LMXblJb"
      }
    },
    {
      "cell_type": "markdown",
      "source": [
        "Contenu de traitement dans la phase \\<map>. <h2>C'est à vous de le faire &#8987;</h2>"
      ],
      "metadata": {
        "id": "CwmgOTGZbap2"
      }
    },
    {
      "cell_type": "code",
      "source": [
        "#@title\n",
        "#!/usr/bin/python\n",
        "import sys\n",
        "# Mettez vos instructions ...\n",
        "def mapper(file_path):\n",
        "  fichier = open(file_path, 'r')\n",
        "  file_line = fichier.readlines()\n",
        "  fichier.close()\n",
        "  result = []\n",
        "\n",
        "  for line in file_line:\n",
        "    data = line.strip().split(\"\\t\")\n",
        "    if len(data) == 6:\n",
        "      date, time, store, item, montant, payment = data\n",
        "      result.append((store, montant))\n",
        "      #print(store, \"\\t\", str(montant))\n",
        "  \n",
        "  return result\n",
        "\n",
        "\n",
        "\"\"\"result = mapper('/usr/lib/jvm/java-8-openjdk-amd64/fichier/purchases.txt')\n",
        "for i in range(10):\n",
        "  print(result[i][0], \"\\t\", result[i][1])\"\"\""
      ],
      "metadata": {
        "id": "DORC5LGPzXTf",
        "colab": {
          "base_uri": "https://localhost:8080/",
          "height": 54
        },
        "outputId": "afa42c2f-5ad4-4e2f-f6de-58f1ad0479bc"
      },
      "execution_count": 14,
      "outputs": [
        {
          "output_type": "execute_result",
          "data": {
            "text/plain": [
              "'result = mapper(\\'/usr/lib/jvm/java-8-openjdk-amd64/fichier/purchases.txt\\')\\nfor i in range(10):\\n  print(result[i][0], \"\\t\", result[i][1])'"
            ],
            "application/vnd.google.colaboratory.intrinsic+json": {
              "type": "string"
            }
          },
          "metadata": {},
          "execution_count": 14
        }
      ]
    },
    {
      "cell_type": "markdown",
      "source": [
        "Sauvegarde du code de traitement de la phase <map> dans le fichier \"/content/map.py\""
      ],
      "metadata": {
        "id": "5FMoUYz0bJk6"
      }
    },
    {
      "cell_type": "code",
      "source": [
        "# All cell codes are stored in a List variable \"In\"\n",
        "with open('/content/mapper.py', 'w') as f:\n",
        "  f.write(In[12]) \n",
        "f.close()"
      ],
      "metadata": {
        "id": "hF1orBgT3xZk"
      },
      "execution_count": 59,
      "outputs": []
    },
    {
      "cell_type": "markdown",
      "source": [
        "Attribution de permission d'accès et d'exécution sur le fichier <mapper.py>"
      ],
      "metadata": {
        "id": "kmdthu1tT9ah"
      }
    },
    {
      "cell_type": "code",
      "source": [
        "!chmod u+rwx /content/mapper.py"
      ],
      "metadata": {
        "id": "4o54WVW0UENR"
      },
      "execution_count": 55,
      "outputs": []
    },
    {
      "cell_type": "markdown",
      "source": [
        "Test du traitement de la phase <map> sur quelques enregistrements"
      ],
      "metadata": {
        "id": "CaCsrIzRTHRV"
      }
    },
    {
      "cell_type": "code",
      "source": [
        "!head -10 ~/myinput/purchases.txt | python3 /content/mapper.py"
      ],
      "metadata": {
        "id": "Kkc1LChRTIoj"
      },
      "execution_count": null,
      "outputs": []
    },
    {
      "cell_type": "markdown",
      "source": [
        "Contenu de traitement de la phase \\<reduce>. <h2>C'est à vous de le faire aussi &#128521;</h2>"
      ],
      "metadata": {
        "id": "PMb1kR3ibXTy"
      }
    },
    {
      "cell_type": "code",
      "source": [
        "#!/usr/bin/python\n",
        "from operator import itemgetter\n",
        "import sys\n",
        "# Mettez vos instructions ...\n",
        "\n",
        "def reducer(file_path):\n",
        "  map = mapper(file_path)\n",
        "  map_new = {}\n",
        "\n",
        "  for elm in map:\n",
        "    if elm[0] not in map_new:\n",
        "      map_new.update({elm[0] : 0})\n",
        "\n",
        "  for key in map:\n",
        "    map_new.update({key[0] : float(map_new[key[0]]) + float(key[1])})\n",
        "\n",
        "  print(\"Magazin\\t\\tMontant Total\")\n",
        "  print(\"##################################\")\n",
        "  for elm in map_new:\n",
        "    print(elm, \"\\t\", map_new[elm])\n",
        "\n",
        "\n",
        "file_path = '/usr/lib/jvm/java-8-openjdk-amd64/fichier/purchases.txt'\n",
        "reducer(file_path)\n",
        "\n",
        "\n",
        "\"\"\"\n",
        "salesTotal = 0\n",
        "oldKey = None\n",
        "for line in sys.stdin:\n",
        "  data = line.strip().split(\"\\t\")\n",
        "  if len(data) != 2:\n",
        "    continue\n",
        "  \n",
        "  thisKey, thisSale = data\n",
        "  if oldKey and oldKey != thisKey:\n",
        "    print(oldKey, \"\\t\", str(salesTotal))\n",
        "    salesTotal = 0\n",
        "    \n",
        "  oldKey = thisKey\n",
        "  salesTotal += float (thisSale)\n",
        "\n",
        "if oldKey != None:\n",
        "  print(oldKey, \"\\t\", str(salesTotal))\"\"\""
      ],
      "metadata": {
        "id": "47sDnvcIzfsJ",
        "colab": {
          "base_uri": "https://localhost:8080/",
          "height": 1000
        },
        "outputId": "875c5c15-9f86-4b61-bae8-79b146c77e5c"
      },
      "execution_count": 15,
      "outputs": [
        {
          "output_type": "stream",
          "name": "stdout",
          "text": [
            "Magazin\t\tMontant Total\n",
            "##################################\n",
            "San Jose \t 9936721.410000037\n",
            "Fort Worth \t 10120830.650000045\n",
            "San Diego \t 9966038.390000092\n",
            "Pittsburgh \t 10090124.820000142\n",
            "Omaha \t 10026642.340000028\n",
            "Stockton \t 10006412.640000084\n",
            "Austin \t 10057158.89999997\n",
            "New York \t 10085293.549999924\n",
            "Corpus Christi \t 9976522.769999985\n",
            "Las Vegas \t 10054257.979999974\n",
            "Newark \t 10144052.80000001\n",
            "Greensboro \t 10033781.390000034\n",
            "San Francisco \t 9995570.540000018\n",
            "Lincoln \t 10069485.400000012\n",
            "Buffalo \t 10001941.19000001\n",
            "Boston \t 10039473.279999953\n",
            "Houston \t 10042106.270000026\n",
            "Virginia Beach \t 10086553.499999968\n",
            "Riverside \t 10006695.420000002\n",
            "Tulsa \t 10064955.900000058\n",
            "Reno \t 10079955.159999985\n",
            "Chicago \t 10062522.06999999\n",
            "Fort Wayne \t 10132594.019999968\n",
            "San Bernardino \t 9965152.039999986\n",
            "Madison \t 10032035.540000046\n",
            "Portland \t 10007635.769999959\n",
            "Anchorage \t 9933500.400000054\n",
            "Spokane \t 10083362.979999933\n",
            "Fresno \t 9976260.260000074\n",
            "Aurora \t 9992970.92000003\n",
            "Philadelphia \t 10190080.25999996\n",
            "Fremont \t 10053242.36000004\n",
            "Norfolk \t 10088563.169999892\n",
            "Chandler \t 9919559.859999867\n",
            "Minneapolis \t 10011757.780000048\n",
            "Honolulu \t 10006273.490000004\n",
            "Indianapolis \t 10090272.76999998\n",
            "Saint Paul \t 10057233.569999913\n",
            "Boise \t 10039166.739999974\n",
            "Durham \t 10153890.209999973\n",
            "Lexington \t 10084510.950000055\n",
            "Garland \t 10071043.919999948\n",
            "Kansas City \t 9968118.729999997\n",
            "Atlanta \t 9997146.700000068\n",
            "Wichita \t 10083643.21000005\n",
            "Santa Ana \t 10050309.929999994\n",
            "New Orleans \t 9949257.74999993\n",
            "Memphis \t 10038565.320000028\n",
            "Tucson \t 9998252.469999937\n",
            "Nashville \t 9961450.510000087\n",
            "Washington \t 10139363.389999893\n",
            "Cincinnati \t 10139505.74000003\n",
            "Charlotte \t 10112531.34000002\n",
            "Albuquerque \t 10052311.42000002\n",
            "Milwaukee \t 10064482.650000053\n",
            "Jacksonville \t 10072003.329999952\n",
            "Phoenix \t 10079076.699999966\n",
            "San Antonio \t 10014441.700000014\n",
            "St. Petersburg \t 9986495.539999975\n",
            "Lubbock \t 9958119.150000013\n",
            "Toledo \t 10020768.880000036\n",
            "Oakland \t 9947292.520000033\n",
            "Scottsdale \t 10037929.849999893\n",
            "Anaheim \t 10076416.359999916\n",
            "Jersey City \t 9920141.869999925\n",
            "El Paso \t 10016409.96999998\n",
            "Tampa \t 10106428.550000038\n",
            "Cleveland \t 10067835.839999948\n",
            "Arlington \t 10072207.969999947\n",
            "Columbus \t 10035241.029999983\n",
            "Raleigh \t 10061442.54\n",
            "Seattle \t 9936267.369999917\n",
            "Detroit \t 9979260.760000013\n",
            "Rochester \t 10067606.920000028\n",
            "Dallas \t 10066548.450000057\n",
            "Long Beach \t 10006380.250000093\n",
            "Denver \t 10031534.870000089\n",
            "Mesa \t 10053642.600000033\n",
            "Gilbert \t 10062115.190000106\n",
            "Bakersfield \t 10031208.919999944\n",
            "Chesapeake \t 10038504.919999996\n",
            "Glendale \t 10044493.969999956\n",
            "Baltimore \t 10096521.450000003\n",
            "North Las Vegas \t 10029652.509999946\n",
            "Miami \t 9947316.07000013\n",
            "Irvine \t 10084867.449999984\n",
            "Los Angeles \t 10084576.800000008\n",
            "Orlando \t 10074922.520000046\n",
            "Winston–Salem \t 10044011.830000052\n",
            "Louisville \t 10008566.470000042\n",
            "Irving \t 10133944.080000026\n",
            "Hialeah \t 10047052.76000007\n",
            "Plano \t 10046103.610000039\n",
            "Oklahoma City \t 10118986.249999953\n",
            "Baton Rouge \t 10131273.230000038\n",
            "Chula Vista \t 9974951.339999996\n",
            "Birmingham \t 10076606.52000002\n",
            "St. Louis \t 10002105.140000014\n",
            "Richmond \t 9992941.59000004\n",
            "Colorado Springs \t 10061105.870000053\n",
            "Sacramento \t 10123468.179999968\n",
            "Laredo \t 10144604.979999961\n",
            "Henderson \t 10053416.049999993\n"
          ]
        },
        {
          "output_type": "execute_result",
          "data": {
            "text/plain": [
              "'\\nsalesTotal = 0\\noldKey = None\\nfor line in sys.stdin:\\n  data = line.strip().split(\"\\t\")\\n  if len(data) != 2:\\n    continue\\n  \\n  thisKey, thisSale = data\\n  if oldKey and oldKey != thisKey:\\n    print(oldKey, \"\\t\", str(salesTotal))\\n    salesTotal = 0\\n    \\n  oldKey = thisKey\\n  salesTotal += float (thisSale)\\n\\nif oldKey != None:\\n  print(oldKey, \"\\t\", str(salesTotal))'"
            ],
            "application/vnd.google.colaboratory.intrinsic+json": {
              "type": "string"
            }
          },
          "metadata": {},
          "execution_count": 15
        }
      ]
    },
    {
      "cell_type": "markdown",
      "source": [
        "Sauvegarde du code de traitement de la phase <reduce> dans le fichier \"/content/reduce.py\""
      ],
      "metadata": {
        "id": "l4-Y8tM7bO_P"
      }
    },
    {
      "cell_type": "code",
      "source": [
        "# All cell codes are stored in a List variable \"In\"\n",
        "with open('/content/reducer.py', 'w') as f:\n",
        "  f.write(In[37]) \n",
        "f.close()"
      ],
      "metadata": {
        "id": "xQBTPRMtz_M_"
      },
      "execution_count": null,
      "outputs": []
    },
    {
      "cell_type": "markdown",
      "source": [
        "Attribution de permission d'accès et d'exécution sur le fichier <reducer.py>"
      ],
      "metadata": {
        "id": "YmGnEPdz5YO-"
      }
    },
    {
      "cell_type": "code",
      "source": [
        "!chmod u+rwx /content/reducer.py"
      ],
      "metadata": {
        "id": "QY6L7F6G5LJX"
      },
      "execution_count": null,
      "outputs": []
    },
    {
      "cell_type": "markdown",
      "source": [
        "Test du traitement distribué sur quelques enregistrements"
      ],
      "metadata": {
        "id": "xrMCnnh7UZAp"
      }
    },
    {
      "cell_type": "code",
      "source": [
        "!head -50 ~/myinput/purchases.txt | python3 /content/mapper.py | sort | python3 /content/reducer.py"
      ],
      "metadata": {
        "id": "8aPj3aTbUfNV"
      },
      "execution_count": null,
      "outputs": []
    },
    {
      "cell_type": "markdown",
      "source": [
        "Lancement d'un job entier. Le résultat est dans le dossier \"~/tryout\"."
      ],
      "metadata": {
        "id": "4qORR_Ag5WR1"
      }
    },
    {
      "cell_type": "code",
      "source": [
        "!rm -r ~/myoutput\n",
        "!/usr/local/hadoop-3.3.0/bin/hadoop jar /usr/local/hadoop-3.3.0/share/hadoop/tools/lib/hadoop-streaming-3.3.0.jar -input ~/myinput -output ~/myoutput -file /content/mapper.py  -file /content/reducer.py  -mapper 'python mapper.py'  -reducer 'python reducer.py'"
      ],
      "metadata": {
        "id": "xGE52cAm5ZyW"
      },
      "execution_count": null,
      "outputs": []
    },
    {
      "cell_type": "markdown",
      "source": [
        "Affichage du contenu du dossier \"~/myoutput\"."
      ],
      "metadata": {
        "id": "0t76GHsU5ses"
      }
    },
    {
      "cell_type": "code",
      "source": [
        "!ls ~/myoutput"
      ],
      "metadata": {
        "id": "zRkWnc8D5ule"
      },
      "execution_count": null,
      "outputs": []
    },
    {
      "cell_type": "markdown",
      "source": [
        "Affichage d'un part du résultat contenu dans le fichier de sortie. On y trouve la fréquence de chaque mot contenu dans le corpus de documents."
      ],
      "metadata": {
        "id": "u6lEMkuYX6YI"
      }
    },
    {
      "cell_type": "code",
      "source": [
        "!tail -n 30 ~/myoutput/part-00000"
      ],
      "metadata": {
        "id": "_dU_89Wr6PSv"
      },
      "execution_count": null,
      "outputs": []
    },
    {
      "cell_type": "markdown",
      "source": [
        "# Activité 2\n",
        "Nous continuons à travailler avec le même fichier en entrées (purchases.txt), mais pour obtenir des résultats différents. <u>Le but est donc d’écrire vos propres Mappers et Reducers</u>.\n",
        "<ol>\n",
        "<li>Donner le nombre de paiement par mode de paiement.</li>\n",
        "<li>Quel est le chiffre d'affaire réalisé selon les jours de la semaine ?</li>\n",
        "<li>Quelle est la liste des magasins ?</li>\n",
        "<li>Quel est le nombre total des ventes et la valeur totale des ventes de tous magasins confondus ?</i>\n",
        "</ol>"
      ],
      "metadata": {
        "id": "TG0ZeTjD7GxQ"
      }
    },
    {
      "cell_type": "markdown",
      "source": [
        "# Références\n",
        "**Réalisez des calculs distribués sur des données massives** : \n",
        "https://openclassrooms.com/fr/courses/4297166-realisez-des-calculs-distribues-sur-des-donnees-massives/4308656-familiarisez-vous-avec-hadoop\n",
        "\n",
        "**Hadoop : la nouvelle infrastructure de gestion de données** : https://juvenal-chokogoue.developpez.com/tutoriels/hadoop-fonctionnement/\n",
        "\n",
        "**MapReduce : comment l’utiliser pour le Big Data ?** : https://datascientest.com/mapreduce\n",
        "\n",
        "**Calcul distribué: Hadoop et MapReduce** : http://b3d.bdpedia.fr/calculdistr.html\n",
        "\n",
        "**Language Processing and Python** : https://www.nltk.org/book/ch01.html"
      ],
      "metadata": {
        "id": "gK7rOg_rZlUt"
      }
    }
  ]
}