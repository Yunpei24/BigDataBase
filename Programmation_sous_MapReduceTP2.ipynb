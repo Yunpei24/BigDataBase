{
  "nbformat": 4,
  "nbformat_minor": 0,
  "metadata": {
    "colab": {
      "provenance": [],
      "include_colab_link": true
    },
    "kernelspec": {
      "name": "python3",
      "display_name": "Python 3"
    },
    "language_info": {
      "name": "python"
    }
  },
  "cells": [
    {
      "cell_type": "markdown",
      "metadata": {
        "id": "view-in-github",
        "colab_type": "text"
      },
      "source": [
        "<a href=\"https://colab.research.google.com/github/Yunpei24/BigDataBase/blob/main/Programmation_sous_MapReduceTP2.ipynb\" target=\"_parent\"><img src=\"https://colab.research.google.com/assets/colab-badge.svg\" alt=\"Open In Colab\"/></a>"
      ]
    },
    {
      "cell_type": "markdown",
      "source": [
        "## Introduction à la programmation distribuée sous <i>MapReduce</i>\n",
        "L'objet principal de ce notebook est de maîtriser la programmation de traitement distribué sous <b>MapReduce</b>. \n",
        "Pour rappel, sous Hadoop, il ne revient pas au programmeur applicatif de mettre en œuvre les mécanismes de réplication, ni de gérer la traçabilité des grains et leur réaffectation. Ces tâches sont de la responsabilité du framework. \n",
        "\n",
        "Le programmeur applicatif a néanmoins le rôle de reformuler les algorithmes qu'il souhaite mettre en œuvre sur la plateforme distribuée suivant le mécanisme d’exécution <i>MapReduce</i>, un mécanisme d’exécution très populaire, présent dans plusieurs frameworks distribués.\n",
        "\n",
        "<i>MapReduce</i> décompose l’ensemble des opérations à réaliser en deux types de tâches <b>élémentaires</b> et <b>uniformes</b>, les <i>Map</i> et les <i>Reduce</i>. Chaque donnée passe d'abord par une tâche <i>Map</i> qui la transforme et éventuellement par une seconde tâche <i>Reduce</i>. \n",
        "\n",
        "Aucun ordre d'exécution particulier n'est attendu entre différentes tâches <i>Map</i> ou entre différentes tâches <i>Reduce</i>. Une ou plusieurs tâches <i>Map</i> et/ou <i>Reduce</i> peuvent être facilement assignées à chaque nœud de calcul. Un nœud de calcul peut correspondre à un ordinateur individuel ou à un cœur d'une unité centrale multi-cœur. Dans ce dernier cas, la mémoire vive et le stockage de masse de l’ordinateur sont partagés entre les cœurs.\n",
        "\n",
        "Le fonctionnement général de MapReduce est constitué des étapes suivantes:\n",
        "<ol>\n",
        "<li>L'ensemble de données à traiter est découpé en fragments (<i>chunks</i>).</li>\n",
        "<li>Chaque tâche <i>Map</i> est assignée à un nœud de calcul qui reçoit un ou plusieurs fragments que la tâche <i>Map</i> transforme en une séquence de paires \\[clé, valeur].</li>\n",
        "<li>Chaque tâche <i>Reduce</i> est associée à une ou plusieurs clés et est assignée à un nœud de calcul.</li>\n",
        "<li>Les paires (clé, valeur) produites par les <i>Map</i> sont groupées par clés et stockées sur les nœuds de calcul qui exécuteront les tâches <i>Reduce</i> respectives (étape shuffle).</li>\n",
        "<li>Chaque tâche <i>Reduce</i> combine, pour chaque clé qui lui est associée, les valeurs des paires [clé, valeur] avec cette clé ; les résultats sont stockés et constituent le résultat du traitement.</li>\n",
        "</ol>\n",
        "\n",
        "Le programmeur écrit les fonctions <i>Map</i> et <i>Reduce</i>, le framework se charge du reste comme illustré ci-dessous dans le décompte distribué de la fréquence de chaque mot d'un corpus.\n",
        "<!-- img width=\"70%\" src=\"https://res.cloudinary.com/talend/image/upload/q_auto,w_923,h_486/resources/seo-articles/seo-what-is-mapreduce_gj9ehi.webp\" -->\n",
        "\n",
        "<img width=\"70%\" src=\"https://www.nayaa.fr/bigdata/mr-execution-ex.png\">"
      ],
      "metadata": {
        "id": "-GxUGus3U-R6"
      }
    },
    {
      "cell_type": "markdown",
      "source": [
        "##Installation du Java Development Kit (JDK) \n",
        "Hadoop est écrit en Java et nécessite donc l'installation d'exécution de Java."
      ],
      "metadata": {
        "id": "qW7oVPy2wD_r"
      }
    },
    {
      "cell_type": "markdown",
      "source": [
        "Installation du JDK"
      ],
      "metadata": {
        "id": "9z7VzgdtcHT7"
      }
    },
    {
      "cell_type": "code",
      "execution_count": 39,
      "metadata": {
        "id": "VG2QZ2-puh60"
      },
      "outputs": [],
      "source": [
        "!apt-get install openjdk-8-jdk-headless -qq > /dev/null"
      ]
    },
    {
      "cell_type": "markdown",
      "source": [
        "Création de la variable d'environnement <JAVA_HOME> pour situer l'emplacement d'installationde Java "
      ],
      "metadata": {
        "id": "aHs729CucFMv"
      }
    },
    {
      "cell_type": "code",
      "source": [
        "import os\n",
        "os.environ[\"JAVA_HOME\"] = \"/usr/lib/jvm/java-8-openjdk-amd64\""
      ],
      "metadata": {
        "id": "6SJ7l69avQP0"
      },
      "execution_count": 40,
      "outputs": []
    },
    {
      "cell_type": "markdown",
      "source": [
        "# Installation du framework Hadoop"
      ],
      "metadata": {
        "id": "zATmQRKXv6y5"
      }
    },
    {
      "cell_type": "markdown",
      "source": [
        "Téléchargement depuis les archives de la fondation Apache"
      ],
      "metadata": {
        "id": "M2GpL7zccB-E"
      }
    },
    {
      "cell_type": "code",
      "source": [
        "!wget https://archive.apache.org/dist/hadoop/common/hadoop-3.3.0/hadoop-3.3.0.tar.gz"
      ],
      "metadata": {
        "id": "fIzgKOjjvVZn",
        "outputId": "f5a23ef5-03ff-4c43-9356-18bbd51716d6",
        "colab": {
          "base_uri": "https://localhost:8080/"
        }
      },
      "execution_count": 41,
      "outputs": [
        {
          "output_type": "stream",
          "name": "stdout",
          "text": [
            "--2023-01-14 10:48:13--  https://archive.apache.org/dist/hadoop/common/hadoop-3.3.0/hadoop-3.3.0.tar.gz\n",
            "Resolving archive.apache.org (archive.apache.org)... 138.201.131.134, 2a01:4f8:172:2ec5::2\n",
            "Connecting to archive.apache.org (archive.apache.org)|138.201.131.134|:443... connected.\n",
            "HTTP request sent, awaiting response... 200 OK\n",
            "Length: 500749234 (478M) [application/x-gzip]\n",
            "Saving to: ‘hadoop-3.3.0.tar.gz.1’\n",
            "\n",
            "hadoop-3.3.0.tar.gz 100%[===================>] 477.55M  82.3MB/s    in 6.4s    \n",
            "\n",
            "2023-01-14 10:48:19 (75.0 MB/s) - ‘hadoop-3.3.0.tar.gz.1’ saved [500749234/500749234]\n",
            "\n"
          ]
        }
      ]
    },
    {
      "cell_type": "markdown",
      "source": [
        "Extraction de l'archive"
      ],
      "metadata": {
        "id": "d3tokPwWb_TU"
      }
    },
    {
      "cell_type": "code",
      "source": [
        "!tar -xzvf hadoop-3.3.0.tar.gz"
      ],
      "metadata": {
        "id": "7Qsxg2nVvcql"
      },
      "execution_count": null,
      "outputs": []
    },
    {
      "cell_type": "markdown",
      "source": [
        "Copie du dossier extrait dans l'emplacement <user/local>"
      ],
      "metadata": {
        "id": "KMihsUJcb8mc"
      }
    },
    {
      "cell_type": "code",
      "source": [
        "!cp -r hadoop-3.3.0/ /usr/local/"
      ],
      "metadata": {
        "id": "qiZu2f2MvfFJ"
      },
      "execution_count": 43,
      "outputs": []
    },
    {
      "cell_type": "markdown",
      "source": [
        "## Programmation de tâches distribuées avec <i>MapReduce</i>"
      ],
      "metadata": {
        "id": "cPA7R0jj7Efs"
      }
    },
    {
      "cell_type": "markdown",
      "source": [
        "Création d'un repertoire <myinput> pour contenir le jeu de données à tester durant cet exercice e d'un second pour les résultats du traitement distribué"
      ],
      "metadata": {
        "id": "zrgy3AhU6-ue"
      }
    },
    {
      "cell_type": "code",
      "source": [
        "!mkdir -p ~/myinput\n",
        "!mkdir -p ~/myoutput"
      ],
      "metadata": {
        "id": "CdW4R_x5vqoo"
      },
      "execution_count": 44,
      "outputs": []
    },
    {
      "cell_type": "markdown",
      "source": [
        "Télachargement du jeu de données dans le fichier <u>purchases.txt</u>"
      ],
      "metadata": {
        "id": "0YYbaWQKbwgI"
      }
    },
    {
      "cell_type": "code",
      "source": [
        "!curl -L -o 'purchases.txt' 'https://drive.google.com/u/0/uc?id=1NS-PSXW8bSNpzFH4XRbtmMnMGhXBdYy6&export=download&confirm=t'"
      ],
      "metadata": {
        "id": "Z1H5BOHtGgvK",
        "colab": {
          "base_uri": "https://localhost:8080/"
        },
        "outputId": "ad47a4c3-d327-42af-8ca5-3425c82629a6"
      },
      "execution_count": 45,
      "outputs": [
        {
          "metadata": {
            "tags": null
          },
          "name": "stdout",
          "output_type": "stream",
          "text": [
            "  % Total    % Received % Xferd  Average Speed   Time    Time     Time  Current\n",
            "                                 Dload  Upload   Total   Spent    Left  Speed\n",
            "  0     0    0     0    0     0      0      0 --:--:-- --:--:-- --:--:--     0\n",
            "  0     0    0     0    0     0      0      0 --:--:-- --:--:-- --:--:--     0\n",
            "100  201M  100  201M    0     0   101M      0  0:00:01  0:00:01 --:--:--  176M\n"
          ]
        }
      ]
    },
    {
      "cell_type": "markdown",
      "source": [
        "Déplacement du fichier <u>purchases.txt</u> dans le répertoire <myinput>"
      ],
      "metadata": {
        "id": "A4UhTIPWHalM"
      }
    },
    {
      "cell_type": "code",
      "source": [
        "!mv purchases.txt ~/myinput/purchases.txt"
      ],
      "metadata": {
        "id": "pxrmwexRvtra"
      },
      "execution_count": 46,
      "outputs": []
    },
    {
      "cell_type": "markdown",
      "source": [
        "Vérification que les fichiers ont été bien copiés"
      ],
      "metadata": {
        "id": "TU3iICMSbt5b"
      }
    },
    {
      "cell_type": "code",
      "source": [
        "!ls /usr/myinput"
      ],
      "metadata": {
        "id": "9pNAZrlXvxax",
        "colab": {
          "base_uri": "https://localhost:8080/"
        },
        "outputId": "6378ef4f-d8ba-4153-b820-a3aa0aa220d2"
      },
      "execution_count": 47,
      "outputs": [
        {
          "metadata": {
            "tags": null
          },
          "name": "stdout",
          "output_type": "stream",
          "text": [
            "ls: cannot access '/usr/myinput': No such file or directory\n"
          ]
        }
      ]
    },
    {
      "cell_type": "markdown",
      "source": [
        "Affichage des premiers lignes du fichier. Le format des enregistrement est le suivant:\n",
        "<table border='1'><tr>\n",
        "<td>Date</td><td>Heure</td><td>Magasin</td><td>Produit</td><td>Montant</td><td>Moyen_de_paiement</td>\n",
        "</tr></table>\n",
        "La tabulation <b>\\t</b> est utilisée comme séparateur de colonne ✅"
      ],
      "metadata": {
        "id": "bg4_s72GbrXI"
      }
    },
    {
      "cell_type": "code",
      "source": [
        "!head -20  ~/myinput/purchases.txt"
      ],
      "metadata": {
        "id": "sz1Hu-tgvz32",
        "outputId": "061c7b45-4964-43b7-d6ac-5204e4007ad2",
        "colab": {
          "base_uri": "https://localhost:8080/"
        }
      },
      "execution_count": 53,
      "outputs": [
        {
          "output_type": "stream",
          "name": "stdout",
          "text": [
            "2012-01-01\t09:00\tSan Jose\tMen's Clothing\t214.05\tAmex\n",
            "2012-01-01\t09:00\tFort Worth\tWomen's Clothing\t153.57\tVisa\n",
            "2012-01-01\t09:00\tSan Diego\tMusic\t66.08\tCash\n",
            "2012-01-01\t09:00\tPittsburgh\tPet Supplies\t493.51\tDiscover\n",
            "2012-01-01\t09:00\tOmaha\tChildren's Clothing\t235.63\tMasterCard\n",
            "2012-01-01\t09:00\tStockton\tMen's Clothing\t247.18\tMasterCard\n",
            "2012-01-01\t09:00\tAustin\tCameras\t379.6\tVisa\n",
            "2012-01-01\t09:00\tNew York\tConsumer Electronics\t296.8\tCash\n",
            "2012-01-01\t09:00\tCorpus Christi\tToys\t25.38\tDiscover\n",
            "2012-01-01\t09:00\tFort Worth\tToys\t213.88\tVisa\n",
            "2012-01-01\t09:00\tLas Vegas\tVideo Games\t53.26\tVisa\n",
            "2012-01-01\t09:00\tNewark\tVideo Games\t39.75\tCash\n",
            "2012-01-01\t09:00\tAustin\tCameras\t469.63\tMasterCard\n",
            "2012-01-01\t09:00\tGreensboro\tDVDs\t290.82\tMasterCard\n",
            "2012-01-01\t09:00\tSan Francisco\tMusic\t260.65\tDiscover\n",
            "2012-01-01\t09:00\tLincoln\tGarden\t136.9\tVisa\n",
            "2012-01-01\t09:00\tBuffalo\tWomen's Clothing\t483.82\tVisa\n",
            "2012-01-01\t09:00\tSan Jose\tWomen's Clothing\t215.82\tCash\n",
            "2012-01-01\t09:00\tBoston\tCameras\t418.94\tAmex\n",
            "2012-01-01\t09:00\tHouston\tBaby\t309.16\tVisa\n"
          ]
        }
      ]
    },
    {
      "cell_type": "code",
      "source": [
        "from google.colab import drive\n",
        "drive.mount('/content/drive')"
      ],
      "metadata": {
        "colab": {
          "base_uri": "https://localhost:8080/"
        },
        "id": "-VDIcUt7W5f2",
        "outputId": "6ed7257a-febf-4c3e-96e4-b0a7eb325599"
      },
      "execution_count": 54,
      "outputs": [
        {
          "output_type": "stream",
          "name": "stdout",
          "text": [
            "Drive already mounted at /content/drive; to attempt to forcibly remount, call drive.mount(\"/content/drive\", force_remount=True).\n"
          ]
        }
      ]
    },
    {
      "cell_type": "markdown",
      "source": [
        "## Activité 1"
      ],
      "metadata": {
        "id": "6Y1p3diBzHnO"
      }
    },
    {
      "cell_type": "markdown",
      "source": [
        "Le travail consiste à utiliser <i>MapReduce</i> avec le langage Python et effectuer un traitement distribué. Notre but est de déterminer le total des achats par magasin en exploitant les données du fichier <purchases.txt>.\n",
        "\n",
        "Vous devrez implémenter les fonctions <i>Map<i> et <i>Reduce</> du traitement."
      ],
      "metadata": {
        "id": "xKN45LMXblJb"
      }
    },
    {
      "cell_type": "markdown",
      "source": [
        "Contenu de traitement dans la phase \\<map>. <h2>C'est à vous de le faire &#8987;</h2>"
      ],
      "metadata": {
        "id": "CwmgOTGZbap2"
      }
    },
    {
      "cell_type": "code",
      "source": [
        "#!/usr/bin/python\n",
        "import sys\n",
        "# Mettez vos instructions ...\n",
        "for line in sys.stdin:\n",
        "  data = line.strip().split(\"\\t\")\n",
        "  if len(data) == 6:\n",
        "    date, time, store, item, amount, payment = data\n",
        "    print(store, \"\\t\", str(amount))"
      ],
      "metadata": {
        "id": "tweg1u954cOz"
      },
      "execution_count": 55,
      "outputs": []
    },
    {
      "cell_type": "code",
      "source": [
        "#@title\n",
        "#!/usr/bin/python\n",
        "import sys\n",
        "# Mettez vos instructions ...\n",
        "def mapper(file_path):\n",
        "  fichier = open(file_path, 'r')\n",
        "  file_line = fichier.readlines()\n",
        "  fichier.close()\n",
        "  result = []\n",
        "\n",
        "  for line in file_line:\n",
        "    data = line.strip().split(\"\\t\")\n",
        "    if len(data) == 6:\n",
        "      date, time, store, item, montant, payment = data\n",
        "      result.append((store, montant))\n",
        "      #print(store, \"\\t\", str(montant))\n",
        "  \n",
        "  return result"
      ],
      "metadata": {
        "id": "DORC5LGPzXTf"
      },
      "execution_count": 65,
      "outputs": []
    },
    {
      "cell_type": "markdown",
      "source": [
        "Sauvegarde du code de traitement de la phase <map> dans le fichier \"/content/map.py\""
      ],
      "metadata": {
        "id": "5FMoUYz0bJk6"
      }
    },
    {
      "cell_type": "code",
      "source": [
        "# All cell codes are stored in a List variable \"In\"\n",
        "with open('/content/mapper.py', 'w') as f:\n",
        "  f.write(In[55]) \n",
        "f.close()"
      ],
      "metadata": {
        "id": "hF1orBgT3xZk"
      },
      "execution_count": 57,
      "outputs": []
    },
    {
      "cell_type": "markdown",
      "source": [
        "Attribution de permission d'accès et d'exécution sur le fichier <mapper.py>"
      ],
      "metadata": {
        "id": "kmdthu1tT9ah"
      }
    },
    {
      "cell_type": "code",
      "source": [
        "!chmod u+rwx /content/mapper.py"
      ],
      "metadata": {
        "id": "4o54WVW0UENR"
      },
      "execution_count": 58,
      "outputs": []
    },
    {
      "cell_type": "markdown",
      "source": [
        "Test du traitement de la phase <map> sur quelques enregistrements"
      ],
      "metadata": {
        "id": "CaCsrIzRTHRV"
      }
    },
    {
      "cell_type": "code",
      "source": [
        "!head -10 ~/myinput/purchases.txt | python3 /content/mapper.py"
      ],
      "metadata": {
        "id": "Kkc1LChRTIoj",
        "outputId": "c6e2baaf-b574-49ef-ef70-fee104c4f377",
        "colab": {
          "base_uri": "https://localhost:8080/"
        }
      },
      "execution_count": 59,
      "outputs": [
        {
          "output_type": "stream",
          "name": "stdout",
          "text": [
            "San Jose \t 214.05\n",
            "Fort Worth \t 153.57\n",
            "San Diego \t 66.08\n",
            "Pittsburgh \t 493.51\n",
            "Omaha \t 235.63\n",
            "Stockton \t 247.18\n",
            "Austin \t 379.6\n",
            "New York \t 296.8\n",
            "Corpus Christi \t 25.38\n",
            "Fort Worth \t 213.88\n"
          ]
        }
      ]
    },
    {
      "cell_type": "markdown",
      "source": [
        "Contenu de traitement de la phase \\<reduce>. <h2>C'est à vous de le faire aussi &#128521;</h2>"
      ],
      "metadata": {
        "id": "PMb1kR3ibXTy"
      }
    },
    {
      "cell_type": "code",
      "source": [
        "#!/usr/bin/python\n",
        "from operator import itemgetter\n",
        "import sys\n",
        "# Mettez vos instructions ...\n",
        "salesTotal = 0\n",
        "oldKey = None\n",
        "\n",
        "for line in sys.stdin:\n",
        "  data = line.strip().split(\"\\t\")\n",
        "  if len(data) != 2:\n",
        "    continue\n",
        "  \n",
        "  thisKey, thisSale = data\n",
        "  if oldKey and oldKey != thisKey:\n",
        "    print(oldKey, \"\\t\", str(salesTotal))\n",
        "    salesTotal = 0\n",
        "    \n",
        "  oldKey = thisKey\n",
        "  salesTotal += float (thisSale)\n",
        "\n",
        "if oldKey != None:\n",
        "  print(oldKey, \"\\t\", str(salesTotal))"
      ],
      "metadata": {
        "id": "yqQYlb1W6-ZS"
      },
      "execution_count": 60,
      "outputs": []
    },
    {
      "cell_type": "code",
      "source": [
        "#!/usr/bin/python\n",
        "from operator import itemgetter\n",
        "import sys\n",
        "# Mettez vos instructions ...\n",
        "\n",
        "def reducer(file_path):\n",
        "  map = mapper(file_path)\n",
        "  map_new = {}\n",
        "\n",
        "  for elm in map:\n",
        "    if elm[0] not in map_new:\n",
        "      map_new.update({elm[0] : 0})\n",
        "\n",
        "  for key in map:\n",
        "    map_new.update({key[0] : float(map_new[key[0]]) + float(key[1])})\n",
        "\n",
        "  print(\"Magazin\\t\\tMontant Total\")\n",
        "  print(\"##################################\")\n",
        "  print(len(map_new))\n",
        "  for elm in map_new:\n",
        "    print(elm, \"\\t\", map_new[elm])\n",
        "\n",
        "\n",
        "file_path = '/root/myinput/purchases.txt'\n",
        "reducer(file_path)"
      ],
      "metadata": {
        "id": "47sDnvcIzfsJ"
      },
      "execution_count": null,
      "outputs": []
    },
    {
      "cell_type": "markdown",
      "source": [
        "Sauvegarde du code de traitement de la phase <reduce> dans le fichier \"/content/reduce.py\""
      ],
      "metadata": {
        "id": "l4-Y8tM7bO_P"
      }
    },
    {
      "cell_type": "code",
      "source": [
        "# All cell codes are stored in a List variable \"In\"\n",
        "with open('/content/reducer.py', 'w') as f:\n",
        "  f.write(In[60]) \n",
        "f.close()"
      ],
      "metadata": {
        "id": "xQBTPRMtz_M_"
      },
      "execution_count": 61,
      "outputs": []
    },
    {
      "cell_type": "markdown",
      "source": [
        "Attribution de permission d'accès et d'exécution sur le fichier <reducer.py>"
      ],
      "metadata": {
        "id": "YmGnEPdz5YO-"
      }
    },
    {
      "cell_type": "code",
      "source": [
        "!chmod u+rwx /content/reducer.py"
      ],
      "metadata": {
        "id": "QY6L7F6G5LJX"
      },
      "execution_count": 70,
      "outputs": []
    },
    {
      "cell_type": "markdown",
      "source": [
        "Test du traitement distribué sur quelques enregistrements"
      ],
      "metadata": {
        "id": "xrMCnnh7UZAp"
      }
    },
    {
      "cell_type": "code",
      "source": [
        "!head -70000 ~/myinput/purchases.txt | python3 /content/mapper.py | sort | python3 /content/reducer.py"
      ],
      "metadata": {
        "id": "8aPj3aTbUfNV"
      },
      "execution_count": null,
      "outputs": []
    },
    {
      "cell_type": "markdown",
      "source": [
        "Lancement d'un job entier. Le résultat est dans le dossier \"~/tryout\"."
      ],
      "metadata": {
        "id": "4qORR_Ag5WR1"
      }
    },
    {
      "cell_type": "code",
      "source": [
        "!rm -r ~/myoutput\n",
        "!/usr/local/hadoop-3.3.0/bin/hadoop jar /usr/local/hadoop-3.3.0/share/hadoop/tools/lib/hadoop-streaming-3.3.0.jar -input ~/myinput -output ~/myoutput -file /content/mapper.py  -file /content/reducer.py  -mapper 'python mapper.py'  -reducer 'python reducer.py'"
      ],
      "metadata": {
        "id": "xGE52cAm5ZyW"
      },
      "execution_count": null,
      "outputs": []
    },
    {
      "cell_type": "markdown",
      "source": [
        "Affichage du contenu du dossier \"~/myoutput\"."
      ],
      "metadata": {
        "id": "0t76GHsU5ses"
      }
    },
    {
      "cell_type": "code",
      "source": [
        "!ls ~/myoutput"
      ],
      "metadata": {
        "id": "zRkWnc8D5ule",
        "outputId": "ac2c8d7e-d718-4e4e-f607-aa20929a294a",
        "colab": {
          "base_uri": "https://localhost:8080/"
        }
      },
      "execution_count": 72,
      "outputs": [
        {
          "output_type": "stream",
          "name": "stdout",
          "text": [
            "part-00000  _SUCCESS\n"
          ]
        }
      ]
    },
    {
      "cell_type": "markdown",
      "source": [
        "Affichage d'un part du résultat contenu dans le fichier de sortie. On y trouve la fréquence de chaque mot contenu dans le corpus de documents."
      ],
      "metadata": {
        "id": "u6lEMkuYX6YI"
      }
    },
    {
      "cell_type": "code",
      "source": [
        "!tail -n 30 ~/myoutput/part-00000"
      ],
      "metadata": {
        "id": "_dU_89Wr6PSv"
      },
      "execution_count": null,
      "outputs": []
    },
    {
      "cell_type": "markdown",
      "source": [
        "# Activité 2\n",
        "Nous continuons à travailler avec le même fichier en entrées (purchases.txt), mais pour obtenir des résultats différents. <u>Le but est donc d’écrire vos propres Mappers et Reducers</u>.\n",
        "<ol>\n",
        "<li>Donner le nombre de paiement par mode de paiement.</li>\n",
        "<li>Quel est le chiffre d'affaire réalisé selon les jours de la semaine ?</li>\n",
        "<li>Quelle est la liste des magasins ?</li>\n",
        "<li>Quel est le nombre total des ventes et la valeur totale des ventes de tous magasins confondus ?</i>\n",
        "</ol>"
      ],
      "metadata": {
        "id": "TG0ZeTjD7GxQ"
      }
    },
    {
      "cell_type": "markdown",
      "source": [
        "# QUestion 1\n",
        "def mapper2(file_path):\n",
        "  fichier = open(file_path, 'r')\n",
        "  file_line = fichier.readlines()\n",
        "  fichier.close()\n",
        "  result = []\n",
        "\n",
        "  for line in file_line:\n",
        "    data = line.strip().split(\"\\t\")\n",
        "    if len(data) == 6:\n",
        "      date, time, store, item, montant, payment = data\n",
        "      result.append(payment)\n",
        "  \n",
        "  return result\n",
        "\n",
        "def reducer2(file_path):\n",
        "  map = mapper2(file_path)\n",
        "  fic = {}\n",
        "  for elm in map:\n",
        "    if elm in fic:\n",
        "      fic.update({elm : int(fic[elm]) + 1})\n",
        "    else:\n",
        "      fic.update({elm : 0})\n",
        "  \n",
        "  for key in fic:\n",
        "    print(key, \"\\t\", fic[key]) \n",
        "\n",
        "file_path = '/root/myinput/purchases.txt'  \n",
        "reducer2(file_path)"
      ],
      "metadata": {
        "id": "ZRs_sGZxKUE0"
      }
    },
    {
      "cell_type": "markdown",
      "source": [
        "**PARTIE MAPPER**"
      ],
      "metadata": {
        "id": "XfLE6_5fK9OV"
      }
    },
    {
      "cell_type": "code",
      "source": [
        "#!/usr/bin/python\n",
        "import sys\n",
        "# Mettez vos instructions ...\n",
        "for line in sys.stdin:\n",
        "  data = line.strip().split(\"\\t\")\n",
        "  if len(data) == 6:\n",
        "    date, time, store, item, amount, payment = data\n",
        "    print(payment + \"\\t1\")"
      ],
      "metadata": {
        "id": "rXCknOq0FeY1"
      },
      "execution_count": 76,
      "outputs": []
    },
    {
      "cell_type": "code",
      "source": [
        "# All cell codes are stored in a List variable \"In\"\n",
        "with open('/content/mapper1.py', 'w') as f:\n",
        "  f.write(In[76]) \n",
        "f.close()"
      ],
      "metadata": {
        "id": "BKip3zWaGrIl"
      },
      "execution_count": 77,
      "outputs": []
    },
    {
      "cell_type": "code",
      "source": [
        "!chmod u+rwx /content/mapper1.py"
      ],
      "metadata": {
        "id": "ZtQf2BJ-G7l5"
      },
      "execution_count": 79,
      "outputs": []
    },
    {
      "cell_type": "code",
      "source": [
        "!head -10 ~/myinput/purchases.txt | python3 /content/mapper1.py"
      ],
      "metadata": {
        "id": "uzoVh9hMHF3l",
        "outputId": "a239099c-3265-4469-dcbc-163219c8061b",
        "colab": {
          "base_uri": "https://localhost:8080/"
        }
      },
      "execution_count": 80,
      "outputs": [
        {
          "output_type": "stream",
          "name": "stdout",
          "text": [
            "Amex\t1\n",
            "Visa\t1\n",
            "Cash\t1\n",
            "Discover\t1\n",
            "MasterCard\t1\n",
            "MasterCard\t1\n",
            "Visa\t1\n",
            "Cash\t1\n",
            "Discover\t1\n",
            "Visa\t1\n"
          ]
        }
      ]
    },
    {
      "cell_type": "markdown",
      "source": [
        "**PARTIE REDUCER**"
      ],
      "metadata": {
        "id": "4XG-dNjKHrp9"
      }
    },
    {
      "cell_type": "code",
      "source": [
        "#!/usr/bin/python\n",
        "from operator import itemgetter\n",
        "import sys\n",
        "# Mettez vos instructions ...\n",
        "salesTotal = 0\n",
        "oldKey = None\n",
        "\n",
        "for line in sys.stdin:\n",
        "  data = line.strip().split(\"\\t\")\n",
        "  if len(data) != 2:\n",
        "    continue\n",
        "  \n",
        "  thisKey, thisSale = data\n",
        "  if oldKey and oldKey != thisKey:\n",
        "    print(oldKey, \"\\t\", str(salesTotal))\n",
        "    salesTotal = 0\n",
        "    \n",
        "  oldKey = thisKey\n",
        "  salesTotal += int (thisSale)\n",
        "\n",
        "if oldKey != None:\n",
        "  print(oldKey, \"\\t\", str(salesTotal))"
      ],
      "metadata": {
        "id": "y5iu_iyFHiAq"
      },
      "execution_count": 81,
      "outputs": []
    },
    {
      "cell_type": "code",
      "source": [
        "# All cell codes are stored in a List variable \"In\"\n",
        "with open('/content/reducer1.py', 'w') as f:\n",
        "  f.write(In[81]) \n",
        "f.close()"
      ],
      "metadata": {
        "id": "JDzFxoBUIfP_"
      },
      "execution_count": 82,
      "outputs": []
    },
    {
      "cell_type": "code",
      "source": [
        "!chmod u+rwx /content/reducer1.py"
      ],
      "metadata": {
        "id": "WyVGwWh9IpFw"
      },
      "execution_count": 83,
      "outputs": []
    },
    {
      "cell_type": "markdown",
      "source": [
        "Test du traitement distribué sur quelques enregistrements"
      ],
      "metadata": {
        "id": "EDIELY70I7-P"
      }
    },
    {
      "cell_type": "code",
      "source": [
        "!head -50 ~/myinput/purchases.txt | python3 /content/mapper1.py | sort | python3 /content/reducer1.py"
      ],
      "metadata": {
        "id": "d2iAfR8sIyNG",
        "outputId": "e155a024-e086-4d6b-c418-84a2943b6614",
        "colab": {
          "base_uri": "https://localhost:8080/"
        }
      },
      "execution_count": 84,
      "outputs": [
        {
          "output_type": "stream",
          "name": "stdout",
          "text": [
            "Amex \t 10\n",
            "Cash \t 10\n",
            "Discover \t 8\n",
            "MasterCard \t 9\n",
            "Visa \t 13\n"
          ]
        }
      ]
    },
    {
      "cell_type": "code",
      "source": [
        "!rm -r ~/myoutput\n",
        "!/usr/local/hadoop-3.3.0/bin/hadoop jar /usr/local/hadoop-3.3.0/share/hadoop/tools/lib/hadoop-streaming-3.3.0.jar -input ~/myinput -output ~/myoutput -file /content/mapper1.py  -file /content/reducer1.py  -mapper 'python mapper1.py'  -reducer 'python reducer1.py'"
      ],
      "metadata": {
        "id": "8IigQ5HcJSEK"
      },
      "execution_count": null,
      "outputs": []
    },
    {
      "cell_type": "code",
      "source": [
        "!ls ~/myoutput"
      ],
      "metadata": {
        "id": "eUWC0GtnJmFd",
        "outputId": "93902b96-309f-4803-ac80-43e9a9b2b3f8",
        "colab": {
          "base_uri": "https://localhost:8080/"
        }
      },
      "execution_count": 86,
      "outputs": [
        {
          "output_type": "stream",
          "name": "stdout",
          "text": [
            "part-00000  _SUCCESS\n"
          ]
        }
      ]
    },
    {
      "cell_type": "code",
      "source": [
        "!tail -n 30 ~/myoutput/part-00000"
      ],
      "metadata": {
        "id": "mjAz4O44Jz1s",
        "outputId": "9dba803f-d0ee-4fe4-aabe-713a81007dac",
        "colab": {
          "base_uri": "https://localhost:8080/"
        }
      },
      "execution_count": 87,
      "outputs": [
        {
          "output_type": "stream",
          "name": "stdout",
          "text": [
            "Amex \t 826535\n",
            "Cash \t 828770\n",
            "Discover \t 827426\n",
            "MasterCard \t 828524\n",
            "Visa \t 827221\n"
          ]
        }
      ]
    },
    {
      "cell_type": "markdown",
      "source": [
        "#QUESTION2 : Chiffre d'affaire réalisé selon les jours de la semaine"
      ],
      "metadata": {
        "id": "g85brSBpKia_"
      }
    },
    {
      "cell_type": "code",
      "source": [
        "#!/usr/bin/python\n",
        "import sys\n",
        "# Mettez vos instructions ...\n",
        "for line in sys.stdin:\n",
        "  data = line.strip().split(\"\\t\")\n",
        "  if len(data) == 6:\n",
        "    date, time, store, item, amount, payment = data\n",
        "    print(date, \"\\t\", amount)"
      ],
      "metadata": {
        "id": "CbQU2QDIKxnf"
      },
      "execution_count": 88,
      "outputs": []
    },
    {
      "cell_type": "code",
      "source": [
        "# All cell codes are stored in a List variable \"In\"\n",
        "with open('/content/mapper2.py', 'w') as f:\n",
        "  f.write(In[88]) \n",
        "f.close()"
      ],
      "metadata": {
        "id": "9pZPBRatL2aL"
      },
      "execution_count": 89,
      "outputs": []
    },
    {
      "cell_type": "code",
      "source": [
        "!chmod u+rwx /content/mapper2.py"
      ],
      "metadata": {
        "id": "I2M89NJTMJYW"
      },
      "execution_count": 90,
      "outputs": []
    },
    {
      "cell_type": "code",
      "source": [
        "!head -10 ~/myinput/purchases.txt | python3 /content/mapper2.py"
      ],
      "metadata": {
        "id": "Hcu8PAsJMOFK",
        "outputId": "a484b6aa-fa12-4a8c-dcb4-83528b0bea0f",
        "colab": {
          "base_uri": "https://localhost:8080/"
        }
      },
      "execution_count": 91,
      "outputs": [
        {
          "output_type": "stream",
          "name": "stdout",
          "text": [
            "2012-01-01 \t 214.05\n",
            "2012-01-01 \t 153.57\n",
            "2012-01-01 \t 66.08\n",
            "2012-01-01 \t 493.51\n",
            "2012-01-01 \t 235.63\n",
            "2012-01-01 \t 247.18\n",
            "2012-01-01 \t 379.6\n",
            "2012-01-01 \t 296.8\n",
            "2012-01-01 \t 25.38\n",
            "2012-01-01 \t 213.88\n"
          ]
        }
      ]
    },
    {
      "cell_type": "code",
      "source": [
        "#!/usr/bin/python\n",
        "from operator import itemgetter\n",
        "import sys\n",
        "# Mettez vos instructions ...\n",
        "salesTotal = 0\n",
        "oldKey = None\n",
        "\n",
        "for line in sys.stdin:\n",
        "  data = line.strip().split(\"\\t\")\n",
        "  if len(data) != 2:\n",
        "    continue\n",
        "  \n",
        "  thisKey, thisSale = data\n",
        "  if oldKey and oldKey != thisKey:\n",
        "    print(oldKey, \"\\t\", str(salesTotal))\n",
        "    salesTotal = 0\n",
        "    \n",
        "  oldKey = thisKey\n",
        "  salesTotal += float (thisSale)\n",
        "\n",
        "if oldKey != None:\n",
        "  print(oldKey, \"\\t\", str(salesTotal))"
      ],
      "metadata": {
        "id": "_E36NavLM8P5"
      },
      "execution_count": 92,
      "outputs": []
    },
    {
      "cell_type": "code",
      "source": [
        "# All cell codes are stored in a List variable \"In\"\n",
        "with open('/content/reducer2.py', 'w') as f:\n",
        "  f.write(In[92]) \n",
        "f.close()"
      ],
      "metadata": {
        "id": "yShJexHINPn1"
      },
      "execution_count": 93,
      "outputs": []
    },
    {
      "cell_type": "code",
      "source": [
        "!chmod u+rwx /content/reducer2.py"
      ],
      "metadata": {
        "id": "WWxCo1UZNUfq"
      },
      "execution_count": 94,
      "outputs": []
    },
    {
      "cell_type": "code",
      "source": [
        "!head -50 ~/myinput/purchases.txt | python3 /content/mapper2.py | sort | python3 /content/reducer2.py"
      ],
      "metadata": {
        "id": "wPVXxvDsNaxT",
        "outputId": "3b87055a-f982-4fb7-df8a-b5c363384b48",
        "colab": {
          "base_uri": "https://localhost:8080/"
        }
      },
      "execution_count": 95,
      "outputs": [
        {
          "output_type": "stream",
          "name": "stdout",
          "text": [
            "2012-01-01  \t 11259.819999999998\n"
          ]
        }
      ]
    },
    {
      "cell_type": "code",
      "source": [
        "!rm -r ~/myoutput\n",
        "!/usr/local/hadoop-3.3.0/bin/hadoop jar /usr/local/hadoop-3.3.0/share/hadoop/tools/lib/hadoop-streaming-3.3.0.jar -input ~/myinput -output ~/myoutput -file /content/mapper2.py  -file /content/reducer2.py  -mapper 'python mapper2.py'  -reducer 'python reducer2.py'"
      ],
      "metadata": {
        "id": "pOpnrOY-OS1m"
      },
      "execution_count": null,
      "outputs": []
    },
    {
      "cell_type": "code",
      "source": [
        "!ls ~/myoutput"
      ],
      "metadata": {
        "id": "HoTo3-UCOfRQ",
        "outputId": "09c2fc9e-2e7e-4424-a478-c1586581c03d",
        "colab": {
          "base_uri": "https://localhost:8080/"
        }
      },
      "execution_count": 97,
      "outputs": [
        {
          "output_type": "stream",
          "name": "stdout",
          "text": [
            "part-00000  _SUCCESS\n"
          ]
        }
      ]
    },
    {
      "cell_type": "code",
      "source": [
        "!tail -n 1000 ~/myoutput/part-00000"
      ],
      "metadata": {
        "id": "9IWnjQl-OrwM",
        "outputId": "c85c26ca-9cc0-4776-8f5c-bcc41ac260fb",
        "colab": {
          "base_uri": "https://localhost:8080/"
        }
      },
      "execution_count": 99,
      "outputs": [
        {
          "output_type": "stream",
          "name": "stdout",
          "text": [
            "2012-01-01  \t 2838071.4400000027\n",
            "2012-01-02  \t 2808888.290000001\n",
            "2012-01-03  \t 2877953.3099999856\n",
            "2012-01-04  \t 2829499.0200000056\n",
            "2012-01-05  \t 2838836.420000009\n",
            "2012-01-06  \t 2868368.749999997\n",
            "2012-01-07  \t 2843133.1600000085\n",
            "2012-01-08  \t 2903037.410000003\n",
            "2012-01-09  \t 2820050.500000003\n",
            "2012-01-10  \t 2815668.7099999976\n",
            "2012-01-11  \t 2863222.7200000184\n",
            "2012-01-12  \t 2837737.1500000083\n",
            "2012-01-13  \t 2840672.6899999925\n",
            "2012-01-14  \t 2844114.94\n",
            "2012-01-15  \t 2820928.5700000017\n",
            "2012-01-16  \t 2842436.4700000077\n",
            "2012-01-17  \t 2787413.2900000084\n",
            "2012-01-18  \t 2794907.0100000016\n",
            "2012-01-19  \t 2847904.5700000045\n",
            "2012-01-20  \t 2843726.099999992\n",
            "2012-01-21  \t 2812201.390000009\n",
            "2012-01-22  \t 2823239.8400000064\n",
            "2012-01-23  \t 2820093.1199999866\n",
            "2012-01-24  \t 2841298.409999998\n",
            "2012-01-25  \t 2854085.34\n",
            "2012-01-26  \t 2828425.459999995\n",
            "2012-01-27  \t 2846832.8199999966\n",
            "2012-01-28  \t 2805671.249999998\n",
            "2012-01-29  \t 2821061.889999988\n",
            "2012-01-30  \t 2853027.3700000015\n",
            "2012-01-31  \t 2847175.7900000084\n",
            "2012-02-01  \t 2818271.869999997\n",
            "2012-02-02  \t 2832052.30999999\n",
            "2012-02-03  \t 2843539.000000004\n",
            "2012-02-04  \t 2854907.8999999873\n",
            "2012-02-05  \t 2805926.4000000013\n",
            "2012-02-06  \t 2816196.669999993\n",
            "2012-02-07  \t 2879032.519999993\n",
            "2012-02-08  \t 2823914.000000015\n",
            "2012-02-09  \t 2828431.1700000064\n",
            "2012-02-10  \t 2833224.100000009\n",
            "2012-02-11  \t 2829384.3699999847\n",
            "2012-02-12  \t 2843125.029999978\n",
            "2012-02-13  \t 2841150.4399999916\n",
            "2012-02-14  \t 2789762.3299999856\n",
            "2012-02-15  \t 2829955.6499999864\n",
            "2012-02-16  \t 2836684.410000008\n",
            "2012-02-17  \t 2869789.0799999833\n",
            "2012-02-18  \t 2866624.0500000054\n",
            "2012-02-19  \t 2801188.3600000027\n",
            "2012-02-20  \t 2814602.3700000052\n",
            "2012-02-21  \t 2825531.1700000037\n",
            "2012-02-22  \t 2841467.519999995\n",
            "2012-02-23  \t 2827512.4400000083\n",
            "2012-02-24  \t 2832297.4999999944\n",
            "2012-02-25  \t 2845264.939999989\n",
            "2012-02-26  \t 2822453.570000006\n",
            "2012-02-27  \t 2820815.620000001\n",
            "2012-02-28  \t 2822178.2700000037\n",
            "2012-03-01  \t 2824020.379999994\n",
            "2012-03-02  \t 2837437.5299999956\n",
            "2012-03-03  \t 2829183.970000007\n",
            "2012-03-04  \t 2886362.9400000065\n",
            "2012-03-05  \t 2864296.0100000016\n",
            "2012-03-06  \t 2824459.200000001\n",
            "2012-03-07  \t 2815750.5700000105\n",
            "2012-03-08  \t 2886416.0199999907\n",
            "2012-03-09  \t 2833731.759999986\n",
            "2012-03-10  \t 2828150.8899999913\n",
            "2012-03-11  \t 2828334.3300000094\n",
            "2012-03-12  \t 2852389.4800000004\n",
            "2012-03-13  \t 2829343.199999992\n",
            "2012-03-14  \t 2844335.4000000143\n",
            "2012-03-15  \t 2847366.8900000043\n",
            "2012-03-16  \t 2849590.640000004\n",
            "2012-03-17  \t 2806249.480000007\n",
            "2012-03-18  \t 2854204.310000005\n",
            "2012-03-19  \t 2875794.3599999994\n",
            "2012-03-20  \t 2827547.9699999974\n",
            "2012-03-21  \t 2804320.870000012\n",
            "2012-03-22  \t 2832645.8199999915\n",
            "2012-03-23  \t 2834964.930000002\n",
            "2012-03-24  \t 2819628.5200000107\n",
            "2012-03-25  \t 2830091.2799999854\n",
            "2012-03-26  \t 2821986.4199999897\n",
            "2012-03-27  \t 2823944.98\n",
            "2012-03-28  \t 2833408.6900000134\n",
            "2012-03-29  \t 2835192.8099999893\n",
            "2012-03-30  \t 2801713.2000000067\n",
            "2012-03-31  \t 2849292.719999999\n",
            "2012-04-01  \t 2848320.8699999996\n",
            "2012-04-02  \t 2808266.7500000107\n",
            "2012-04-03  \t 2815273.0800000024\n",
            "2012-04-04  \t 2817336.8199999863\n",
            "2012-04-05  \t 2787923.2699999847\n",
            "2012-04-06  \t 2863024.799999986\n",
            "2012-04-07  \t 2828967.8099999884\n",
            "2012-04-08  \t 2874662.5899999933\n",
            "2012-04-09  \t 2883015.200000008\n",
            "2012-04-10  \t 2787326.139999999\n",
            "2012-04-11  \t 2830505.330000011\n",
            "2012-04-12  \t 2824604.939999988\n",
            "2012-04-13  \t 2847867.8400000082\n",
            "2012-04-14  \t 2872550.369999998\n",
            "2012-04-15  \t 2840646.899999996\n",
            "2012-04-16  \t 2823024.5399999935\n",
            "2012-04-17  \t 2851215.8300000113\n",
            "2012-04-18  \t 2831733.0700000213\n",
            "2012-04-19  \t 2842765.8600000245\n",
            "2012-04-20  \t 2827038.5000000037\n",
            "2012-04-21  \t 2822543.5699999942\n",
            "2012-04-22  \t 2823480.210000008\n",
            "2012-04-23  \t 2866959.4100000006\n",
            "2012-04-24  \t 2822020.7099999944\n",
            "2012-04-25  \t 2781882.6999999965\n",
            "2012-04-26  \t 2865810.1899999944\n",
            "2012-04-27  \t 2857332.069999997\n",
            "2012-04-28  \t 2825488.970000002\n",
            "2012-04-29  \t 2831136.2200000007\n",
            "2012-04-30  \t 2829026.249999992\n",
            "2012-05-01  \t 2805801.959999989\n",
            "2012-05-02  \t 2827621.939999998\n",
            "2012-05-03  \t 2839114.930000001\n",
            "2012-05-04  \t 2821736.3199999845\n",
            "2012-05-05  \t 2825152.66\n",
            "2012-05-06  \t 2845492.060000008\n",
            "2012-05-07  \t 2817165.959999999\n",
            "2012-05-08  \t 2837677.3699999982\n",
            "2012-05-09  \t 2822034.3700000043\n",
            "2012-05-10  \t 2865109.029999979\n",
            "2012-05-11  \t 2825465.9599999897\n",
            "2012-05-12  \t 2817970.9300000127\n",
            "2012-05-13  \t 2836629.000000007\n",
            "2012-05-14  \t 2873743.120000008\n",
            "2012-05-15  \t 2837419.9000000055\n",
            "2012-05-16  \t 2825584.840000009\n",
            "2012-05-17  \t 2861939.9999999837\n",
            "2012-05-18  \t 2822718.4299999974\n",
            "2012-05-19  \t 2839455.8900000053\n",
            "2012-05-20  \t 2829119.9400000004\n",
            "2012-05-21  \t 2820888.5799999987\n",
            "2012-05-22  \t 2806957.8499999903\n",
            "2012-05-23  \t 2860280.3099999987\n",
            "2012-05-24  \t 2843261.460000007\n",
            "2012-05-25  \t 2851231.1700000046\n",
            "2012-05-26  \t 2841829.260000014\n",
            "2012-05-27  \t 2824702.8999999873\n",
            "2012-05-28  \t 2831051.04999999\n",
            "2012-05-29  \t 2852789.2799999947\n",
            "2012-05-30  \t 2855275.599999997\n",
            "2012-05-31  \t 2817843.200000001\n",
            "2012-06-01  \t 2818714.77999999\n",
            "2012-06-02  \t 2822641.099999998\n",
            "2012-06-03  \t 2862944.479999986\n",
            "2012-06-04  \t 2809116.6499999915\n",
            "2012-06-05  \t 2795234.2200000063\n",
            "2012-06-06  \t 2800519.849999991\n",
            "2012-06-07  \t 2838782.1699999915\n",
            "2012-06-08  \t 2822847.690000016\n",
            "2012-06-09  \t 2850956.4400000065\n",
            "2012-06-10  \t 2849992.1100000036\n",
            "2012-06-11  \t 2827374.7299999767\n",
            "2012-06-12  \t 2874124.559999993\n",
            "2012-06-13  \t 2862036.5100000016\n",
            "2012-06-14  \t 2840731.6400000066\n",
            "2012-06-15  \t 2805270.340000006\n",
            "2012-06-16  \t 2861512.3299999996\n",
            "2012-06-17  \t 2829730.089999997\n",
            "2012-06-18  \t 2876280.7300000023\n",
            "2012-06-19  \t 2816494.7700000005\n",
            "2012-06-20  \t 2837960.969999992\n",
            "2012-06-21  \t 2822205.570000017\n",
            "2012-06-22  \t 2831352.1999999965\n",
            "2012-06-23  \t 2812260.5200000047\n",
            "2012-06-24  \t 2824145.490000003\n",
            "2012-06-25  \t 2839881.8799999906\n",
            "2012-06-26  \t 2836508.1500000106\n",
            "2012-06-27  \t 2895283.8199999915\n",
            "2012-06-28  \t 2823528.409999998\n",
            "2012-06-29  \t 2842262.6499999864\n",
            "2012-06-30  \t 2844827.1900000107\n",
            "2012-07-01  \t 2846814.670000002\n",
            "2012-07-02  \t 2841136.0100000077\n",
            "2012-07-03  \t 2835889.4499999885\n",
            "2012-07-04  \t 2810532.0300000026\n",
            "2012-07-05  \t 2860113.8900000122\n",
            "2012-07-06  \t 2847827.6200000113\n",
            "2012-07-07  \t 2809974.9400000097\n",
            "2012-07-08  \t 2865324.0300000017\n",
            "2012-07-09  \t 2872461.419999989\n",
            "2012-07-10  \t 2851871.3700000094\n",
            "2012-07-11  \t 2864528.4800000032\n",
            "2012-07-12  \t 2840374.5100000105\n",
            "2012-07-13  \t 2805829.4799999897\n",
            "2012-07-14  \t 2839867.379999998\n",
            "2012-07-15  \t 2825800.9699999946\n",
            "2012-07-16  \t 2839687.3600000013\n",
            "2012-07-17  \t 2848212.4199999953\n",
            "2012-07-18  \t 2789038.73000001\n",
            "2012-07-19  \t 2874029.9199999976\n",
            "2012-07-20  \t 2856955.4799999963\n",
            "2012-07-21  \t 2835486.5400000038\n",
            "2012-07-22  \t 2866588.5000000177\n",
            "2012-07-23  \t 2856697.3099999907\n",
            "2012-07-24  \t 2834861.4700000114\n",
            "2012-07-25  \t 2827393.0100000007\n",
            "2012-07-26  \t 2843577.3300000057\n",
            "2012-07-27  \t 2804993.1400000057\n",
            "2012-07-28  \t 2845372.559999997\n",
            "2012-07-29  \t 2805902.8099999987\n",
            "2012-07-30  \t 2871302.319999991\n",
            "2012-07-31  \t 2836859.6800000067\n",
            "2012-08-01  \t 2847568.159999998\n",
            "2012-08-02  \t 2828845.4599999967\n",
            "2012-08-03  \t 2843417.1000000043\n",
            "2012-08-04  \t 2836888.9800000098\n",
            "2012-08-05  \t 2806365.649999993\n",
            "2012-08-06  \t 2841956.3699999894\n",
            "2012-08-07  \t 2817234.5399999977\n",
            "2012-08-08  \t 2835388.9900000026\n",
            "2012-08-09  \t 2850555.0600000094\n",
            "2012-08-10  \t 2845896.1399999913\n",
            "2012-08-11  \t 2823824.7000000128\n",
            "2012-08-12  \t 2834204.929999997\n",
            "2012-08-13  \t 2795225.9499999834\n",
            "2012-08-14  \t 2836106.6799999946\n",
            "2012-08-15  \t 2827972.2800000054\n",
            "2012-08-16  \t 2820092.34999999\n",
            "2012-08-17  \t 2798964.340000003\n",
            "2012-08-18  \t 2801091.9200000064\n",
            "2012-08-19  \t 2799850.079999981\n",
            "2012-08-20  \t 2873714.0600000075\n",
            "2012-08-21  \t 2816840.729999987\n",
            "2012-08-22  \t 2834442.580000007\n",
            "2012-08-23  \t 2839849.7299999925\n",
            "2012-08-24  \t 2831923.63000001\n",
            "2012-08-25  \t 2845676.6500000022\n",
            "2012-08-26  \t 2863571.7799999854\n",
            "2012-08-27  \t 2841607.089999988\n",
            "2012-08-28  \t 2827967.600000012\n",
            "2012-08-29  \t 2853354.95999999\n",
            "2012-08-30  \t 2863556.459999979\n",
            "2012-08-31  \t 2816722.0599999963\n",
            "2012-09-01  \t 2835253.5000000033\n",
            "2012-09-02  \t 2854805.1399999997\n",
            "2012-09-03  \t 2849744.4600000014\n",
            "2012-09-04  \t 2858723.0200000023\n",
            "2012-09-05  \t 2819986.1600000034\n",
            "2012-09-06  \t 2824070.9999999986\n",
            "2012-09-07  \t 2810724.169999994\n",
            "2012-09-08  \t 2850960.159999993\n",
            "2012-09-09  \t 2829405.5400000075\n",
            "2012-09-10  \t 2815375.7800000017\n",
            "2012-09-11  \t 2860903.9700000086\n",
            "2012-09-12  \t 2807733.079999992\n",
            "2012-09-13  \t 2844087.19999999\n",
            "2012-09-14  \t 2833465.5799999866\n",
            "2012-09-15  \t 2834507.270000001\n",
            "2012-09-16  \t 2803191.0300000096\n",
            "2012-09-17  \t 2821461.219999994\n",
            "2012-09-18  \t 2797476.400000001\n",
            "2012-09-19  \t 2829213.949999989\n",
            "2012-09-20  \t 2805263.539999993\n",
            "2012-09-21  \t 2884461.270000006\n",
            "2012-09-22  \t 2805539.199999991\n",
            "2012-09-23  \t 2803432.6299999924\n",
            "2012-09-24  \t 2852229.270000004\n",
            "2012-09-25  \t 2868736.4799999944\n",
            "2012-09-26  \t 2852600.9700000053\n",
            "2012-09-27  \t 2830236.400000021\n",
            "2012-09-28  \t 2817401.7299999897\n",
            "2012-09-29  \t 2826022.580000008\n",
            "2012-09-30  \t 2829266.200000009\n",
            "2012-10-01  \t 2823390.0600000056\n",
            "2012-10-02  \t 2863062.129999996\n",
            "2012-10-03  \t 2875326.7299999935\n",
            "2012-10-04  \t 2838599.2099999846\n",
            "2012-10-05  \t 2851946.509999996\n",
            "2012-10-06  \t 2819528.8500000057\n",
            "2012-10-07  \t 2844041.3199999905\n",
            "2012-10-08  \t 2845098.0999999978\n",
            "2012-10-09  \t 2842362.2099999986\n",
            "2012-10-10  \t 2837676.430000015\n",
            "2012-10-11  \t 2787159.740000007\n",
            "2012-10-12  \t 2825546.0000000135\n",
            "2012-10-13  \t 2861407.930000007\n",
            "2012-10-14  \t 2827904.139999997\n",
            "2012-10-15  \t 2834820.659999993\n",
            "2012-10-16  \t 2843756.220000001\n",
            "2012-10-17  \t 2826212.3599999947\n",
            "2012-10-18  \t 2828603.059999999\n",
            "2012-10-19  \t 2847727.0000000093\n",
            "2012-10-20  \t 2859844.2199999955\n",
            "2012-10-21  \t 2855726.3299999963\n",
            "2012-10-22  \t 2838727.230000007\n",
            "2012-10-23  \t 2842361.2400000007\n",
            "2012-10-24  \t 2802978.099999992\n",
            "2012-10-25  \t 2827405.3000000096\n",
            "2012-10-26  \t 2788883.839999997\n",
            "2012-10-27  \t 2855644.9999999977\n",
            "2012-10-28  \t 2818846.669999998\n",
            "2012-10-29  \t 2840051.7699999935\n",
            "2012-10-30  \t 2791017.9400000097\n",
            "2012-10-31  \t 2887136.090000005\n",
            "2012-11-01  \t 2812350.339999984\n",
            "2012-11-02  \t 2878614.519999999\n",
            "2012-11-03  \t 2826997.450000006\n",
            "2012-11-04  \t 2825004.6899999906\n",
            "2012-11-05  \t 2850356.8999999883\n",
            "2012-11-06  \t 2870691.0500000007\n",
            "2012-11-07  \t 2833073.630000004\n",
            "2012-11-08  \t 2803196.020000014\n",
            "2012-11-09  \t 2815018.32\n",
            "2012-11-10  \t 2856494.720000003\n",
            "2012-11-11  \t 2801917.390000004\n",
            "2012-11-12  \t 2850618.8899999904\n",
            "2012-11-13  \t 2840428.6200000104\n",
            "2012-11-14  \t 2848495.4699999965\n",
            "2012-11-15  \t 2840171.679999998\n",
            "2012-11-16  \t 2813867.62\n",
            "2012-11-17  \t 2842460.910000001\n",
            "2012-11-18  \t 2835133.350000014\n",
            "2012-11-19  \t 2833737.919999991\n",
            "2012-11-20  \t 2819309.6200000076\n",
            "2012-11-21  \t 2794027.27\n",
            "2012-11-22  \t 2825390.0500000026\n",
            "2012-11-23  \t 2838856.3099999996\n",
            "2012-11-24  \t 2805719.540000005\n",
            "2012-11-25  \t 2832819.340000008\n",
            "2012-11-26  \t 2796242.2700000093\n",
            "2012-11-27  \t 2788399.540000002\n",
            "2012-11-28  \t 2826935.839999998\n",
            "2012-11-29  \t 2793468.0300000105\n",
            "2012-11-30  \t 2817077.6599999876\n",
            "2012-12-01  \t 2837807.040000009\n",
            "2012-12-02  \t 2837043.4099999997\n",
            "2012-12-03  \t 2786014.7700000084\n",
            "2012-12-04  \t 2816118.6699999957\n",
            "2012-12-05  \t 2808006.249999987\n",
            "2012-12-06  \t 2823690.949999996\n",
            "2012-12-07  \t 2806461.2500000163\n",
            "2012-12-08  \t 2793124.820000001\n",
            "2012-12-09  \t 2881642.9400000116\n",
            "2012-12-10  \t 2805660.1299999994\n",
            "2012-12-11  \t 2846968.439999999\n",
            "2012-12-12  \t 2805013.8600000096\n",
            "2012-12-13  \t 2838271.5500000007\n",
            "2012-12-14  \t 2871907.8700000052\n",
            "2012-12-15  \t 2883792.530000003\n",
            "2012-12-16  \t 2877150.100000006\n",
            "2012-12-17  \t 2832816.9200000074\n",
            "2012-12-18  \t 2788764.199999981\n",
            "2012-12-19  \t 2801325.319999995\n",
            "2012-12-20  \t 2818111.1999999927\n",
            "2012-12-21  \t 2838815.7500000126\n",
            "2012-12-22  \t 2860653.820000007\n",
            "2012-12-23  \t 2840960.31\n",
            "2012-12-24  \t 2852687.5099999886\n",
            "2012-12-25  \t 2871581.4800000065\n",
            "2012-12-26  \t 2824344.4199999813\n",
            "2012-12-27  \t 2815864.0699999984\n",
            "2012-12-28  \t 2848874.2600000133\n",
            "2012-12-29  \t 2816269.7400000067\n",
            "2012-12-30  \t 2785053.2899999865\n",
            "2012-12-31  \t 2843768.349999993\n"
          ]
        }
      ]
    },
    {
      "cell_type": "markdown",
      "source": [
        "#QUESTION3 : la liste des magasins"
      ],
      "metadata": {
        "id": "jt3jvRIzPQsj"
      }
    },
    {
      "cell_type": "code",
      "source": [
        "#!/usr/bin/python\n",
        "import sys\n",
        "# Mettez vos instructions ...\n",
        "for line in sys.stdin:\n",
        "  data = line.strip().split(\"\\t\")\n",
        "  if len(data) == 6:\n",
        "    date, time, store, item, amount, payment = data\n",
        "    print(store + \"\\t1\")"
      ],
      "metadata": {
        "id": "5AS-LtWwPc1-"
      },
      "execution_count": 101,
      "outputs": []
    },
    {
      "cell_type": "code",
      "source": [
        "# All cell codes are stored in a List variable \"In\"\n",
        "with open('/content/mapper3.py', 'w') as f:\n",
        "  f.write(In[101]) \n",
        "f.close()"
      ],
      "metadata": {
        "id": "h5rH0VtFTkIL"
      },
      "execution_count": 104,
      "outputs": []
    },
    {
      "cell_type": "code",
      "source": [
        "!chmod u+rwx /content/mapper3.py"
      ],
      "metadata": {
        "id": "uF1Ki5JGUGa-"
      },
      "execution_count": 105,
      "outputs": []
    },
    {
      "cell_type": "code",
      "source": [
        "!head -20 ~/myinput/purchases.txt | python3 /content/mapper3.py"
      ],
      "metadata": {
        "id": "UhXJEqbeUNW_"
      },
      "execution_count": null,
      "outputs": []
    },
    {
      "cell_type": "code",
      "source": [
        "#!/usr/bin/python\n",
        "from operator import itemgetter\n",
        "import sys\n",
        "# Mettez vos instructions ...\n",
        "salesTotal = 0\n",
        "oldKey = None\n",
        "\n",
        "for line in sys.stdin:\n",
        "  data = line.strip().split(\"\\t\")\n",
        "  if len(data) != 2:\n",
        "    continue\n",
        "  \n",
        "  thisKey, thisSale = data\n",
        "  if oldKey and oldKey != thisKey:\n",
        "    print(oldKey, \"\\t\", str(salesTotal))\n",
        "    salesTotal = 0\n",
        "    \n",
        "  oldKey = thisKey\n",
        "  salesTotal += int (thisSale)\n",
        "\n",
        "if oldKey != None:\n",
        "  print(oldKey, \"\\t\", str(salesTotal))"
      ],
      "metadata": {
        "id": "NG3GIx0zUeAj"
      },
      "execution_count": 111,
      "outputs": []
    },
    {
      "cell_type": "code",
      "source": [
        "# All cell codes are stored in a List variable \"In\"\n",
        "with open('/content/reducer3.py', 'w') as f:\n",
        "  f.write(In[111]) \n",
        "f.close()"
      ],
      "metadata": {
        "id": "Qsb74dPfUsaC"
      },
      "execution_count": 112,
      "outputs": []
    },
    {
      "cell_type": "code",
      "source": [
        "!chmod u+rwx /content/reducer3.py"
      ],
      "metadata": {
        "id": "6fFDrlh7U7mk"
      },
      "execution_count": 109,
      "outputs": []
    },
    {
      "cell_type": "code",
      "source": [
        "!head -500 ~/myinput/purchases.txt | python3 /content/mapper3.py | sort | python3 /content/reducer3.py"
      ],
      "metadata": {
        "id": "FIddlmesVA8-",
        "outputId": "3f0c0277-15f7-4255-da38-7ce99c36f5a4",
        "colab": {
          "base_uri": "https://localhost:8080/"
        }
      },
      "execution_count": 114,
      "outputs": [
        {
          "output_type": "stream",
          "name": "stdout",
          "text": [
            "Albuquerque \t 8\n",
            "Anaheim \t 8\n",
            "Anchorage \t 7\n",
            "Arlington \t 4\n",
            "Atlanta \t 3\n",
            "Aurora \t 3\n",
            "Austin \t 8\n",
            "Bakersfield \t 4\n",
            "Baltimore \t 7\n",
            "Baton Rouge \t 4\n",
            "Birmingham \t 4\n",
            "Boise \t 3\n",
            "Boston \t 9\n",
            "Buffalo \t 3\n",
            "Chandler \t 4\n",
            "Charlotte \t 4\n",
            "Chesapeake \t 5\n",
            "Chicago \t 5\n",
            "Chula Vista \t 3\n",
            "Cincinnati \t 4\n",
            "Cleveland \t 3\n",
            "Colorado Springs \t 3\n",
            "Columbus \t 5\n",
            "Corpus Christi \t 6\n",
            "Dallas \t 4\n",
            "Denver \t 4\n",
            "Detroit \t 2\n",
            "Durham \t 5\n",
            "El Paso \t 3\n",
            "Fort Wayne \t 2\n",
            "Fort Worth \t 6\n",
            "Fremont \t 5\n",
            "Fresno \t 5\n",
            "Garland \t 4\n",
            "Gilbert \t 4\n",
            "Glendale \t 5\n",
            "Greensboro \t 10\n",
            "Henderson \t 1\n",
            "Hialeah \t 3\n",
            "Honolulu \t 6\n",
            "Houston \t 7\n",
            "Indianapolis \t 5\n",
            "Irvine \t 5\n",
            "Irving \t 6\n",
            "Jacksonville \t 5\n",
            "Jersey City \t 7\n",
            "Kansas City \t 7\n",
            "Laredo \t 2\n",
            "Las Vegas \t 4\n",
            "Lexington \t 6\n",
            "Lincoln \t 7\n",
            "Long Beach \t 3\n",
            "Los Angeles \t 3\n",
            "Louisville \t 3\n",
            "Lubbock \t 9\n",
            "Madison \t 3\n",
            "Memphis \t 5\n",
            "Mesa \t 9\n",
            "Miami \t 3\n",
            "Milwaukee \t 3\n",
            "Minneapolis \t 6\n",
            "Nashville \t 8\n",
            "Newark \t 4\n",
            "New Orleans \t 5\n",
            "New York \t 7\n",
            "Norfolk \t 4\n",
            "North Las Vegas \t 3\n",
            "Oakland \t 4\n",
            "Oklahoma City \t 4\n",
            "Omaha \t 7\n",
            "Orlando \t 2\n",
            "Philadelphia \t 5\n",
            "Phoenix \t 4\n",
            "Pittsburgh \t 5\n",
            "Plano \t 3\n",
            "Portland \t 4\n",
            "Raleigh \t 4\n",
            "Reno \t 6\n",
            "Richmond \t 6\n",
            "Riverside \t 7\n",
            "Rochester \t 3\n",
            "Sacramento \t 5\n",
            "Saint Paul \t 5\n",
            "San Antonio \t 3\n",
            "San Bernardino \t 5\n",
            "San Diego \t 4\n",
            "San Francisco \t 6\n",
            "San Jose \t 10\n",
            "Santa Ana \t 5\n",
            "Scottsdale \t 6\n",
            "Seattle \t 7\n",
            "Spokane \t 7\n",
            "St. Louis \t 1\n",
            "Stockton \t 3\n",
            "St. Petersburg \t 5\n",
            "Tampa \t 5\n",
            "Toledo \t 8\n",
            "Tucson \t 4\n",
            "Tulsa \t 5\n",
            "Virginia Beach \t 3\n",
            "Washington \t 5\n",
            "Wichita \t 4\n",
            "Winston–Salem \t 5\n"
          ]
        }
      ]
    },
    {
      "cell_type": "markdown",
      "source": [
        "# Références\n",
        "**Réalisez des calculs distribués sur des données massives** : \n",
        "https://openclassrooms.com/fr/courses/4297166-realisez-des-calculs-distribues-sur-des-donnees-massives/4308656-familiarisez-vous-avec-hadoop\n",
        "\n",
        "**Hadoop : la nouvelle infrastructure de gestion de données** : https://juvenal-chokogoue.developpez.com/tutoriels/hadoop-fonctionnement/\n",
        "\n",
        "**MapReduce : comment l’utiliser pour le Big Data ?** : https://datascientest.com/mapreduce\n",
        "\n",
        "**Calcul distribué: Hadoop et MapReduce** : http://b3d.bdpedia.fr/calculdistr.html\n",
        "\n",
        "**Language Processing and Python** : https://www.nltk.org/book/ch01.html"
      ],
      "metadata": {
        "id": "gK7rOg_rZlUt"
      }
    }
  ]
}