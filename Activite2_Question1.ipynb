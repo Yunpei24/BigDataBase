{
  "nbformat": 4,
  "nbformat_minor": 0,
  "metadata": {
    "colab": {
      "provenance": [],
      "authorship_tag": "ABX9TyMs4iapkxv9JHYp4xq79N60",
      "include_colab_link": true
    },
    "kernelspec": {
      "name": "python3",
      "display_name": "Python 3"
    },
    "language_info": {
      "name": "python"
    }
  },
  "cells": [
    {
      "cell_type": "markdown",
      "metadata": {
        "id": "view-in-github",
        "colab_type": "text"
      },
      "source": [
        "<a href=\"https://colab.research.google.com/github/Yunpei24/BigDataBase/blob/main/Activite2_Question1.ipynb\" target=\"_parent\"><img src=\"https://colab.research.google.com/assets/colab-badge.svg\" alt=\"Open In Colab\"/></a>"
      ]
    },
    {
      "cell_type": "markdown",
      "source": [
        "#ACTIVITE2\n",
        "\n",
        "\n",
        "\n"
      ],
      "metadata": {
        "id": "qa7NI1TjLGxQ"
      }
    },
    {
      "cell_type": "markdown",
      "source": [
        "Installation du JDK"
      ],
      "metadata": {
        "id": "9z7VzgdtcHT7"
      }
    },
    {
      "cell_type": "code",
      "execution_count": 1,
      "metadata": {
        "id": "VG2QZ2-puh60"
      },
      "outputs": [],
      "source": [
        "!apt-get install openjdk-8-jdk-headless -qq > /dev/null"
      ]
    },
    {
      "cell_type": "markdown",
      "source": [
        "Création de la variable d'environnement <JAVA_HOME> pour situer l'emplacement d'installationde Java "
      ],
      "metadata": {
        "id": "aHs729CucFMv"
      }
    },
    {
      "cell_type": "code",
      "source": [
        "import os\n",
        "os.environ[\"JAVA_HOME\"] = \"/usr/lib/jvm/java-8-openjdk-amd64\""
      ],
      "metadata": {
        "id": "6SJ7l69avQP0"
      },
      "execution_count": 2,
      "outputs": []
    },
    {
      "cell_type": "markdown",
      "source": [
        "# Installation du framework Hadoop"
      ],
      "metadata": {
        "id": "zATmQRKXv6y5"
      }
    },
    {
      "cell_type": "markdown",
      "source": [
        "Téléchargement depuis les archives de la fondation Apache"
      ],
      "metadata": {
        "id": "M2GpL7zccB-E"
      }
    },
    {
      "cell_type": "code",
      "source": [
        "!wget https://archive.apache.org/dist/hadoop/common/hadoop-3.3.0/hadoop-3.3.0.tar.gz"
      ],
      "metadata": {
        "id": "fIzgKOjjvVZn"
      },
      "execution_count": null,
      "outputs": []
    },
    {
      "cell_type": "markdown",
      "source": [
        "Extraction de l'archive"
      ],
      "metadata": {
        "id": "d3tokPwWb_TU"
      }
    },
    {
      "cell_type": "code",
      "source": [
        "!tar -xzvf hadoop-3.3.0.tar.gz"
      ],
      "metadata": {
        "id": "7Qsxg2nVvcql"
      },
      "execution_count": null,
      "outputs": []
    },
    {
      "cell_type": "markdown",
      "source": [
        "Copie du dossier extrait dans l'emplacement <user/local>"
      ],
      "metadata": {
        "id": "KMihsUJcb8mc"
      }
    },
    {
      "cell_type": "code",
      "source": [
        "!cp -r hadoop-3.3.0/ /usr/local/"
      ],
      "metadata": {
        "id": "qiZu2f2MvfFJ"
      },
      "execution_count": 5,
      "outputs": []
    },
    {
      "cell_type": "markdown",
      "source": [
        "## Programmation de tâches distribuées avec <i>MapReduce</i>"
      ],
      "metadata": {
        "id": "cPA7R0jj7Efs"
      }
    },
    {
      "cell_type": "markdown",
      "source": [
        "Création d'un repertoire <myinput> pour contenir le jeu de données à tester durant cet exercice e d'un second pour les résultats du traitement distribué"
      ],
      "metadata": {
        "id": "zrgy3AhU6-ue"
      }
    },
    {
      "cell_type": "code",
      "source": [
        "!mkdir -p ~/myinput\n",
        "!mkdir -p ~/myoutput"
      ],
      "metadata": {
        "id": "CdW4R_x5vqoo"
      },
      "execution_count": 6,
      "outputs": []
    },
    {
      "cell_type": "markdown",
      "source": [
        "Télachargement du jeu de données dans le fichier <u>purchases.txt</u>"
      ],
      "metadata": {
        "id": "0YYbaWQKbwgI"
      }
    },
    {
      "cell_type": "code",
      "source": [
        "!curl -L -o 'purchases.txt' 'https://drive.google.com/u/0/uc?id=1NS-PSXW8bSNpzFH4XRbtmMnMGhXBdYy6&export=download&confirm=t'"
      ],
      "metadata": {
        "id": "Z1H5BOHtGgvK"
      },
      "execution_count": null,
      "outputs": []
    },
    {
      "cell_type": "markdown",
      "source": [
        "Déplacement du fichier <u>purchases.txt</u> dans le répertoire <myinput>"
      ],
      "metadata": {
        "id": "A4UhTIPWHalM"
      }
    },
    {
      "cell_type": "code",
      "source": [
        "!mv purchases.txt ~/myinput/purchases.txt"
      ],
      "metadata": {
        "id": "pxrmwexRvtra"
      },
      "execution_count": 8,
      "outputs": []
    },
    {
      "cell_type": "markdown",
      "source": [
        "Vérification que les fichiers ont été bien copiés"
      ],
      "metadata": {
        "id": "TU3iICMSbt5b"
      }
    },
    {
      "cell_type": "code",
      "source": [
        "!ls /usr/myinput"
      ],
      "metadata": {
        "id": "9pNAZrlXvxax",
        "colab": {
          "base_uri": "https://localhost:8080/"
        },
        "outputId": "ed203e91-303e-4883-94c0-b77c60f13fb0"
      },
      "execution_count": 9,
      "outputs": [
        {
          "output_type": "stream",
          "name": "stdout",
          "text": [
            "ls: cannot access '/usr/myinput': No such file or directory\n"
          ]
        }
      ]
    },
    {
      "cell_type": "code",
      "source": [
        "from google.colab import drive\n",
        "drive.mount('/content/drive')"
      ],
      "metadata": {
        "colab": {
          "base_uri": "https://localhost:8080/"
        },
        "id": "-VDIcUt7W5f2",
        "outputId": "b61977bd-038b-4634-e030-4a5e1325db9b"
      },
      "execution_count": 10,
      "outputs": [
        {
          "output_type": "stream",
          "name": "stdout",
          "text": [
            "Mounted at /content/drive\n"
          ]
        }
      ]
    },
    {
      "cell_type": "markdown",
      "source": [
        "Affichage des premiers lignes du fichier. Le format des enregistrement est le suivant:\n",
        "<table border='1'><tr>\n",
        "<td>Date</td><td>Heure</td><td>Magasin</td><td>Produit</td><td>Montant</td><td>Moyen_de_paiement</td>\n",
        "</tr></table>\n",
        "La tabulation <b>\\t</b> est utilisée comme séparateur de colonne ✅"
      ],
      "metadata": {
        "id": "bg4_s72GbrXI"
      }
    },
    {
      "cell_type": "markdown",
      "source": [
        "# QUestion 1\n",
        "def mapper2(file_path):\n",
        "  fichier = open(file_path, 'r')\n",
        "  file_line = fichier.readlines()\n",
        "  fichier.close()\n",
        "  result = []\n",
        "\n",
        "  for line in file_line:\n",
        "    data = line.strip().split(\"\\t\")\n",
        "    if len(data) == 6:\n",
        "      date, time, store, item, montant, payment = data\n",
        "      result.append(payment)\n",
        "  \n",
        "  return result\n",
        "\n",
        "def reducer2(file_path):\n",
        "  map = mapper2(file_path)\n",
        "  fic = {}\n",
        "  for elm in map:\n",
        "    if elm in fic:\n",
        "      fic.update({elm : int(fic[elm]) + 1})\n",
        "    else:\n",
        "      fic.update({elm : 0})\n",
        "  \n",
        "  for key in fic:\n",
        "    print(key, \"\\t\", fic[key]) \n",
        "\n",
        "file_path = '/root/myinput/purchases.txt'  \n",
        "reducer2(file_path)"
      ],
      "metadata": {
        "id": "ZRs_sGZxKUE0"
      }
    },
    {
      "cell_type": "markdown",
      "source": [
        "**PARTIE MAPPER**"
      ],
      "metadata": {
        "id": "XfLE6_5fK9OV"
      }
    },
    {
      "cell_type": "code",
      "source": [
        "#!/usr/bin/python\n",
        "import sys\n",
        "# Mettez vos instructions ...\n",
        "for line in sys.stdin:\n",
        "  data = line.strip().split(\"\\t\")\n",
        "  if len(data) == 6:\n",
        "    date, time, store, item, amount, payment = data\n",
        "    print(payment + \"\\t1\")"
      ],
      "metadata": {
        "id": "rXCknOq0FeY1"
      },
      "execution_count": 11,
      "outputs": []
    },
    {
      "cell_type": "code",
      "source": [
        "# All cell codes are stored in a List variable \"In\"\n",
        "with open('/content/mapper.py', 'w') as f:\n",
        "  f.write(In[11]) \n",
        "f.close()"
      ],
      "metadata": {
        "id": "BKip3zWaGrIl"
      },
      "execution_count": 13,
      "outputs": []
    },
    {
      "cell_type": "code",
      "source": [
        "!chmod u+rwx /content/mapper.py"
      ],
      "metadata": {
        "id": "ZtQf2BJ-G7l5"
      },
      "execution_count": 14,
      "outputs": []
    },
    {
      "cell_type": "code",
      "source": [
        "!head -10 ~/myinput/purchases.txt | python3 /content/mapper.py"
      ],
      "metadata": {
        "id": "uzoVh9hMHF3l",
        "outputId": "76cd9202-6622-4a25-b91a-0c832e5559f7",
        "colab": {
          "base_uri": "https://localhost:8080/"
        }
      },
      "execution_count": 15,
      "outputs": [
        {
          "output_type": "stream",
          "name": "stdout",
          "text": [
            "Amex\t1\n",
            "Visa\t1\n",
            "Cash\t1\n",
            "Discover\t1\n",
            "MasterCard\t1\n",
            "MasterCard\t1\n",
            "Visa\t1\n",
            "Cash\t1\n",
            "Discover\t1\n",
            "Visa\t1\n"
          ]
        }
      ]
    },
    {
      "cell_type": "markdown",
      "source": [
        "**PARTIE REDUCER**"
      ],
      "metadata": {
        "id": "4XG-dNjKHrp9"
      }
    },
    {
      "cell_type": "code",
      "source": [
        "#!/usr/bin/python\n",
        "from operator import itemgetter\n",
        "import sys\n",
        "# Mettez vos instructions ...\n",
        "salesTotal = 0\n",
        "oldKey = None\n",
        "\n",
        "for line in sys.stdin:\n",
        "  data = line.strip().split(\"\\t\")\n",
        "  if len(data) != 2:\n",
        "    continue\n",
        "  \n",
        "  thisKey, thisSale = data\n",
        "  if oldKey and oldKey != thisKey:\n",
        "    print(oldKey, \"\\t\", str(salesTotal))\n",
        "    salesTotal = 0\n",
        "    \n",
        "  oldKey = thisKey\n",
        "  salesTotal += int (thisSale)\n",
        "\n",
        "if oldKey != None:\n",
        "  print(oldKey, \"\\t\", str(salesTotal))"
      ],
      "metadata": {
        "id": "y5iu_iyFHiAq"
      },
      "execution_count": 21,
      "outputs": []
    },
    {
      "cell_type": "code",
      "source": [
        "# All cell codes are stored in a List variable \"In\"\n",
        "with open('/content/reducer.py', 'w') as f:\n",
        "  f.write(In[16]) \n",
        "f.close()"
      ],
      "metadata": {
        "id": "JDzFxoBUIfP_"
      },
      "execution_count": 22,
      "outputs": []
    },
    {
      "cell_type": "code",
      "source": [
        "!chmod u+rwx /content/reducer.py"
      ],
      "metadata": {
        "id": "WyVGwWh9IpFw"
      },
      "execution_count": 23,
      "outputs": []
    },
    {
      "cell_type": "markdown",
      "source": [
        "Test du traitement distribué sur quelques enregistrements"
      ],
      "metadata": {
        "id": "EDIELY70I7-P"
      }
    },
    {
      "cell_type": "code",
      "source": [
        "!head -50 ~/myinput/purchases.txt | python3 /content/mapper.py | sort | python3 /content/reducer.py"
      ],
      "metadata": {
        "id": "d2iAfR8sIyNG",
        "outputId": "6ac8e8d6-835a-4f8d-ccc8-aeb69301a5d5",
        "colab": {
          "base_uri": "https://localhost:8080/"
        }
      },
      "execution_count": 24,
      "outputs": [
        {
          "output_type": "stream",
          "name": "stdout",
          "text": [
            "Amex \t 10\n",
            "Cash \t 10\n",
            "Discover \t 8\n",
            "MasterCard \t 9\n",
            "Visa \t 13\n"
          ]
        }
      ]
    },
    {
      "cell_type": "code",
      "source": [
        "!rm -r ~/myoutput\n",
        "!/usr/local/hadoop-3.3.0/bin/hadoop jar /usr/local/hadoop-3.3.0/share/hadoop/tools/lib/hadoop-streaming-3.3.0.jar -input ~/myinput -output ~/myoutput -file /content/mapper.py  -file /content/reducer.py  -mapper 'python mapper.py'  -reducer 'python reducer.py'"
      ],
      "metadata": {
        "id": "8IigQ5HcJSEK"
      },
      "execution_count": null,
      "outputs": []
    },
    {
      "cell_type": "code",
      "source": [
        "!ls ~/myoutput"
      ],
      "metadata": {
        "id": "eUWC0GtnJmFd",
        "outputId": "0e3d8ba8-5a75-4cec-9333-c718071f056e",
        "colab": {
          "base_uri": "https://localhost:8080/"
        }
      },
      "execution_count": 26,
      "outputs": [
        {
          "output_type": "stream",
          "name": "stdout",
          "text": [
            "part-00000  _SUCCESS\n"
          ]
        }
      ]
    },
    {
      "cell_type": "code",
      "source": [
        "!tail -n 30 ~/myoutput/part-00000"
      ],
      "metadata": {
        "id": "mjAz4O44Jz1s",
        "outputId": "29de5448-d0d0-4e60-936f-17d670ff8edf",
        "colab": {
          "base_uri": "https://localhost:8080/"
        }
      },
      "execution_count": 27,
      "outputs": [
        {
          "output_type": "stream",
          "name": "stdout",
          "text": [
            "Amex \t 826535\n",
            "Cash \t 828770\n",
            "Discover \t 827426\n",
            "MasterCard \t 828524\n",
            "Visa \t 827221\n"
          ]
        }
      ]
    }
  ]
}